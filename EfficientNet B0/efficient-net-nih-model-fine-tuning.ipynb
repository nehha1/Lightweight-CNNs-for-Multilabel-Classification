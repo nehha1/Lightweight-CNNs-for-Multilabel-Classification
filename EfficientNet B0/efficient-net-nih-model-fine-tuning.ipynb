{
 "cells": [
  {
   "cell_type": "code",
   "execution_count": 1,
   "id": "652be9cc",
   "metadata": {
    "_cell_guid": "b1076dfc-b9ad-4769-8c92-a6c4dae69d19",
    "_uuid": "8f2839f25d086af736a60e9eeb907d3b93b6e0e5",
    "execution": {
     "iopub.execute_input": "2025-07-10T10:58:43.798631Z",
     "iopub.status.busy": "2025-07-10T10:58:43.798255Z",
     "iopub.status.idle": "2025-07-10T10:59:06.914981Z",
     "shell.execute_reply": "2025-07-10T10:59:06.913728Z"
    },
    "papermill": {
     "duration": 23.123944,
     "end_time": "2025-07-10T10:59:06.916984",
     "exception": false,
     "start_time": "2025-07-10T10:58:43.793040",
     "status": "completed"
    },
    "tags": []
   },
   "outputs": [
    {
     "name": "stderr",
     "output_type": "stream",
     "text": [
      "2025-07-10 10:58:50.382270: E external/local_xla/xla/stream_executor/cuda/cuda_fft.cc:477] Unable to register cuFFT factory: Attempting to register factory for plugin cuFFT when one has already been registered\n",
      "WARNING: All log messages before absl::InitializeLog() is called are written to STDERR\n",
      "E0000 00:00:1752145130.640346      13 cuda_dnn.cc:8310] Unable to register cuDNN factory: Attempting to register factory for plugin cuDNN when one has already been registered\n",
      "E0000 00:00:1752145130.719842      13 cuda_blas.cc:1418] Unable to register cuBLAS factory: Attempting to register factory for plugin cuBLAS when one has already been registered\n"
     ]
    },
    {
     "name": "stdout",
     "output_type": "stream",
     "text": [
      "TensorFlow Version: 2.18.0\n"
     ]
    }
   ],
   "source": [
    "import os\n",
    "import glob\n",
    "import numpy as np\n",
    "import pandas as pd\n",
    "import matplotlib.pyplot as plt\n",
    "import seaborn as sns\n",
    "from itertools import chain\n",
    "from sklearn.model_selection import train_test_split\n",
    "from sklearn.metrics import classification_report, roc_curve, auc\n",
    "import tensorflow as tf\n",
    "from tensorflow import keras\n",
    "from tensorflow.keras import layers\n",
    "from tensorflow.keras import backend as K\n",
    "from tensorflow.keras.applications import EfficientNetB0\n",
    "from tensorflow.keras.applications.efficientnet import preprocess_input\n",
    "import pickle\n",
    "\n",
    "print(\"TensorFlow Version:\", tf.__version__)\n"
   ]
  },
  {
   "cell_type": "code",
   "execution_count": 2,
   "id": "8314de44",
   "metadata": {
    "execution": {
     "iopub.execute_input": "2025-07-10T10:59:06.925882Z",
     "iopub.status.busy": "2025-07-10T10:59:06.925255Z",
     "iopub.status.idle": "2025-07-10T10:59:06.930493Z",
     "shell.execute_reply": "2025-07-10T10:59:06.929445Z"
    },
    "papermill": {
     "duration": 0.011526,
     "end_time": "2025-07-10T10:59:06.932376",
     "exception": false,
     "start_time": "2025-07-10T10:59:06.920850",
     "status": "completed"
    },
    "tags": []
   },
   "outputs": [],
   "source": [
    "IMAGE_SIZE = 224\n",
    "BATCH_SIZE_PER_REPLICA = 32\n",
    "SEED = 42\n",
    "DATA_DIR = '/kaggle/input/data'"
   ]
  },
  {
   "cell_type": "code",
   "execution_count": 3,
   "id": "07dd014b",
   "metadata": {
    "execution": {
     "iopub.execute_input": "2025-07-10T10:59:06.941302Z",
     "iopub.status.busy": "2025-07-10T10:59:06.940953Z",
     "iopub.status.idle": "2025-07-10T10:59:06.985262Z",
     "shell.execute_reply": "2025-07-10T10:59:06.983837Z"
    },
    "papermill": {
     "duration": 0.051278,
     "end_time": "2025-07-10T10:59:06.987327",
     "exception": false,
     "start_time": "2025-07-10T10:59:06.936049",
     "status": "completed"
    },
    "tags": []
   },
   "outputs": [
    {
     "name": "stdout",
     "output_type": "stream",
     "text": [
      "Running on GPU(s)\n",
      "REPLICAS:  1\n",
      "Effective batch size: 32\n"
     ]
    },
    {
     "name": "stderr",
     "output_type": "stream",
     "text": [
      "2025-07-10 10:59:06.945824: E external/local_xla/xla/stream_executor/cuda/cuda_driver.cc:152] failed call to cuInit: INTERNAL: CUDA error: Failed call to cuInit: UNKNOWN ERROR (303)\n"
     ]
    }
   ],
   "source": [
    "# --- TPU/GPU Strategy ---\n",
    "try:\n",
    "    tpu = tf.distribute.cluster_resolver.TPUClusterResolver.connect()\n",
    "    strategy = tf.distribute.TPUStrategy(tpu)\n",
    "    print('Running on TPU')\n",
    "except ValueError:\n",
    "    strategy = tf.distribute.MirroredStrategy()\n",
    "    print('Running on GPU(s)')\n",
    "\n",
    "print(\"REPLICAS: \", strategy.num_replicas_in_sync)\n",
    "BATCH_SIZE = BATCH_SIZE_PER_REPLICA * strategy.num_replicas_in_sync\n",
    "print(f\"Effective batch size: {BATCH_SIZE}\")"
   ]
  },
  {
   "cell_type": "code",
   "execution_count": 4,
   "id": "91e76708",
   "metadata": {
    "execution": {
     "iopub.execute_input": "2025-07-10T10:59:06.996072Z",
     "iopub.status.busy": "2025-07-10T10:59:06.995757Z",
     "iopub.status.idle": "2025-07-10T11:02:04.491963Z",
     "shell.execute_reply": "2025-07-10T11:02:04.490645Z"
    },
    "papermill": {
     "duration": 177.504594,
     "end_time": "2025-07-10T11:02:04.495658",
     "exception": false,
     "start_time": "2025-07-10T10:59:06.991064",
     "status": "completed"
    },
    "tags": []
   },
   "outputs": [
    {
     "name": "stdout",
     "output_type": "stream",
     "text": [
      "Metadata loaded successfully.\n",
      "Found 112120 images with corresponding metadata.\n"
     ]
    }
   ],
   "source": [
    "# Load metadata\n",
    "try:\n",
    "    df = pd.read_csv(os.path.join(DATA_DIR, 'Data_Entry_2017.csv'))\n",
    "    print(\"Metadata loaded successfully.\")\n",
    "except FileNotFoundError:\n",
    "    print(f\"Error: 'Data_Entry_2017.csv' not found in '{DATA_DIR}'.\")\n",
    "    exit()\n",
    "\n",
    "# Create image paths and drop missing ones\n",
    "all_image_paths = {os.path.basename(p): p for p in glob.glob(os.path.join(DATA_DIR, '**', '*.png'), recursive=True)}\n",
    "df['path'] = df['Image Index'].map(all_image_paths.get)\n",
    "df = df.dropna(subset=['path'])\n",
    "print(f\"Found {len(df)} images with corresponding metadata.\")"
   ]
  },
  {
   "cell_type": "code",
   "execution_count": 5,
   "id": "fde0aec9",
   "metadata": {
    "execution": {
     "iopub.execute_input": "2025-07-10T11:02:04.504247Z",
     "iopub.status.busy": "2025-07-10T11:02:04.503909Z",
     "iopub.status.idle": "2025-07-10T11:02:05.293451Z",
     "shell.execute_reply": "2025-07-10T11:02:05.292459Z"
    },
    "papermill": {
     "duration": 0.796098,
     "end_time": "2025-07-10T11:02:05.295331",
     "exception": false,
     "start_time": "2025-07-10T11:02:04.499233",
     "status": "completed"
    },
    "tags": []
   },
   "outputs": [],
   "source": [
    "# One-hot encode labels\n",
    "all_labels = np.unique(list(chain.from_iterable(df['Finding Labels'].map(lambda x: x.split('|')).tolist())))\n",
    "all_labels = [label for label in all_labels if label != 'No Finding']\n",
    "for label in all_labels:\n",
    "    df[label] = df['Finding Labels'].map(lambda finding: 1.0 if label in finding else 0.0)\n",
    "\n",
    "# Split data into train, validation, and test sets by patient ID\n",
    "patient_ids = df['Patient ID'].unique()\n",
    "train_val_ids, test_ids = train_test_split(patient_ids, test_size=0.2, random_state=SEED)\n",
    "train_ids, val_ids = train_test_split(train_val_ids, test_size=0.1, random_state=SEED)\n",
    "\n",
    "train_df = df[df['Patient ID'].isin(train_ids)]\n",
    "val_df = df[df['Patient ID'].isin(val_ids)]\n",
    "test_df = df[df['Patient ID'].isin(test_ids)]"
   ]
  },
  {
   "cell_type": "code",
   "execution_count": 6,
   "id": "56dd71e8",
   "metadata": {
    "execution": {
     "iopub.execute_input": "2025-07-10T11:02:05.304020Z",
     "iopub.status.busy": "2025-07-10T11:02:05.303661Z",
     "iopub.status.idle": "2025-07-10T11:02:05.523381Z",
     "shell.execute_reply": "2025-07-10T11:02:05.522403Z"
    },
    "papermill": {
     "duration": 0.226121,
     "end_time": "2025-07-10T11:02:05.525242",
     "exception": false,
     "start_time": "2025-07-10T11:02:05.299121",
     "status": "completed"
    },
    "tags": []
   },
   "outputs": [
    {
     "name": "stdout",
     "output_type": "stream",
     "text": [
      "tf.data pipelines created successfully.\n"
     ]
    }
   ],
   "source": [
    "# --- Data Augmentation and tf.data Pipelines ---\n",
    "data_augmentation_pipeline = keras.Sequential([\n",
    "    layers.RandomFlip(\"horizontal\"),\n",
    "    layers.RandomRotation(0.1),\n",
    "    layers.RandomZoom(0.1),\n",
    "    layers.RandomBrightness(0.1)\n",
    "], name=\"data_augmentation\")\n",
    "\n",
    "def parse_image(path, label):\n",
    "    image = tf.io.read_file(path)\n",
    "    image = tf.image.decode_png(image, channels=3)\n",
    "    image = tf.image.resize(image, size=[IMAGE_SIZE, IMAGE_SIZE])\n",
    "    return image, label\n",
    "\n",
    "def create_dataset(df):\n",
    "    dataset = tf.data.Dataset.from_tensor_slices((df['path'].values, df[all_labels].values))\n",
    "    AUTOTUNE = tf.data.AUTOTUNE\n",
    "    dataset = dataset.map(parse_image, num_parallel_calls=AUTOTUNE)\n",
    "    dataset = dataset.shuffle(buffer_size=1024).batch(BATCH_SIZE).prefetch(buffer_size=AUTOTUNE)\n",
    "    return dataset\n",
    "\n",
    "train_ds = create_dataset(train_df)\n",
    "val_ds = create_dataset(val_df)\n",
    "test_ds = create_dataset(test_df)\n",
    "print(\"tf.data pipelines created successfully.\")"
   ]
  },
  {
   "cell_type": "code",
   "execution_count": 7,
   "id": "7f5e3248",
   "metadata": {
    "execution": {
     "iopub.execute_input": "2025-07-10T11:02:05.534058Z",
     "iopub.status.busy": "2025-07-10T11:02:05.533700Z",
     "iopub.status.idle": "2025-07-10T11:02:08.217019Z",
     "shell.execute_reply": "2025-07-10T11:02:08.215911Z"
    },
    "papermill": {
     "duration": 2.68986,
     "end_time": "2025-07-10T11:02:08.218942",
     "exception": false,
     "start_time": "2025-07-10T11:02:05.529082",
     "status": "completed"
    },
    "tags": []
   },
   "outputs": [
    {
     "name": "stdout",
     "output_type": "stream",
     "text": [
      "Successfully loaded weights from initial training.\n"
     ]
    }
   ],
   "source": [
    "with strategy.scope():\n",
    "    base_model = EfficientNetB0(\n",
    "        input_shape=(IMAGE_SIZE, IMAGE_SIZE, 3),\n",
    "        include_top=False,\n",
    "        weights=None \n",
    "    )\n",
    "    base_model.trainable = False \n",
    "\n",
    "    inputs = tf.keras.layers.Input(shape=(IMAGE_SIZE, IMAGE_SIZE, 3))\n",
    "    x = data_augmentation_pipeline(inputs)\n",
    "    x = preprocess_input(x)\n",
    "    x = base_model(x, training=False)\n",
    "    x = tf.keras.layers.GlobalAveragePooling2D()(x)\n",
    "    x = tf.keras.layers.Dropout(0.3)(x)\n",
    "    outputs = tf.keras.layers.Dense(len(all_labels), activation='sigmoid')(x)\n",
    "    model = tf.keras.Model(inputs, outputs)\n",
    "\n",
    "    try:\n",
    "        model.load_weights('/kaggle/input/efficient-net-nih-model-training/initial_training_weights.weights.h5')\n",
    "        print(\"Successfully loaded weights from initial training.\")\n",
    "    except (IOError, tf.errors.NotFoundError):\n",
    "        print(\"Could not find 'initial_training_weights.weights.h5'.\")\n",
    "        print(\"Please ensure the initial training was completed and the weights file is available.\")\n",
    "        exit()\n"
   ]
  },
  {
   "cell_type": "code",
   "execution_count": 8,
   "id": "7ff920f8",
   "metadata": {
    "execution": {
     "iopub.execute_input": "2025-07-10T11:02:08.227733Z",
     "iopub.status.busy": "2025-07-10T11:02:08.227371Z",
     "iopub.status.idle": "2025-07-10T11:02:08.237952Z",
     "shell.execute_reply": "2025-07-10T11:02:08.236699Z"
    },
    "papermill": {
     "duration": 0.016893,
     "end_time": "2025-07-10T11:02:08.239662",
     "exception": false,
     "start_time": "2025-07-10T11:02:08.222769",
     "status": "completed"
    },
    "tags": []
   },
   "outputs": [
    {
     "name": "stdout",
     "output_type": "stream",
     "text": [
      "Total layers in base model: 237\n",
      "Unfreezing the top 94 layers for fine-tuning.\n"
     ]
    }
   ],
   "source": [
    "# Set the base model to be trainable\n",
    "base_model.trainable = True\n",
    "\n",
    "# Calculate the number of layers to unfreeze (top 40%)\n",
    "total_layers = len(base_model.layers)\n",
    "unfreeze_layers = int(total_layers * 0.40)\n",
    "\n",
    "print(f\"Total layers in base model: {total_layers}\")\n",
    "print(f\"Unfreezing the top {unfreeze_layers} layers for fine-tuning.\")"
   ]
  },
  {
   "cell_type": "code",
   "execution_count": 9,
   "id": "bf80fc67",
   "metadata": {
    "execution": {
     "iopub.execute_input": "2025-07-10T11:02:08.249333Z",
     "iopub.status.busy": "2025-07-10T11:02:08.249032Z",
     "iopub.status.idle": "2025-07-10T11:02:08.258797Z",
     "shell.execute_reply": "2025-07-10T11:02:08.257702Z"
    },
    "papermill": {
     "duration": 0.016935,
     "end_time": "2025-07-10T11:02:08.260453",
     "exception": false,
     "start_time": "2025-07-10T11:02:08.243518",
     "status": "completed"
    },
    "tags": []
   },
   "outputs": [],
   "source": [
    "# Freeze all layers first\n",
    "for layer in base_model.layers:\n",
    "    layer.trainable = False\n",
    "# Unfreeze the top layers\n",
    "for layer in base_model.layers[-unfreeze_layers:]:\n",
    "    layer.trainable = True"
   ]
  },
  {
   "cell_type": "code",
   "execution_count": 10,
   "id": "2506f28b",
   "metadata": {
    "execution": {
     "iopub.execute_input": "2025-07-10T11:02:08.269334Z",
     "iopub.status.busy": "2025-07-10T11:02:08.269023Z",
     "iopub.status.idle": "2025-07-10T11:02:08.310605Z",
     "shell.execute_reply": "2025-07-10T11:02:08.309618Z"
    },
    "papermill": {
     "duration": 0.047893,
     "end_time": "2025-07-10T11:02:08.312178",
     "exception": false,
     "start_time": "2025-07-10T11:02:08.264285",
     "status": "completed"
    },
    "tags": []
   },
   "outputs": [
    {
     "data": {
      "text/html": [
       "<pre style=\"white-space:pre;overflow-x:auto;line-height:normal;font-family:Menlo,'DejaVu Sans Mono',consolas,'Courier New',monospace\"><span style=\"font-weight: bold\">Model: \"functional_1\"</span>\n",
       "</pre>\n"
      ],
      "text/plain": [
       "\u001b[1mModel: \"functional_1\"\u001b[0m\n"
      ]
     },
     "metadata": {},
     "output_type": "display_data"
    },
    {
     "data": {
      "text/html": [
       "<pre style=\"white-space:pre;overflow-x:auto;line-height:normal;font-family:Menlo,'DejaVu Sans Mono',consolas,'Courier New',monospace\">┏━━━━━━━━━━━━━━━━━━━━━━━━━━━━━━━━━┳━━━━━━━━━━━━━━━━━━━━━━━━┳━━━━━━━━━━━━━━━┓\n",
       "┃<span style=\"font-weight: bold\"> Layer (type)                    </span>┃<span style=\"font-weight: bold\"> Output Shape           </span>┃<span style=\"font-weight: bold\">       Param # </span>┃\n",
       "┡━━━━━━━━━━━━━━━━━━━━━━━━━━━━━━━━━╇━━━━━━━━━━━━━━━━━━━━━━━━╇━━━━━━━━━━━━━━━┩\n",
       "│ input_layer_1 (<span style=\"color: #0087ff; text-decoration-color: #0087ff\">InputLayer</span>)      │ (<span style=\"color: #00d7ff; text-decoration-color: #00d7ff\">None</span>, <span style=\"color: #00af00; text-decoration-color: #00af00\">224</span>, <span style=\"color: #00af00; text-decoration-color: #00af00\">224</span>, <span style=\"color: #00af00; text-decoration-color: #00af00\">3</span>)    │             <span style=\"color: #00af00; text-decoration-color: #00af00\">0</span> │\n",
       "├─────────────────────────────────┼────────────────────────┼───────────────┤\n",
       "│ data_augmentation (<span style=\"color: #0087ff; text-decoration-color: #0087ff\">Sequential</span>)  │ (<span style=\"color: #00d7ff; text-decoration-color: #00d7ff\">None</span>, <span style=\"color: #00af00; text-decoration-color: #00af00\">224</span>, <span style=\"color: #00af00; text-decoration-color: #00af00\">224</span>, <span style=\"color: #00af00; text-decoration-color: #00af00\">3</span>)    │             <span style=\"color: #00af00; text-decoration-color: #00af00\">0</span> │\n",
       "├─────────────────────────────────┼────────────────────────┼───────────────┤\n",
       "│ efficientnetb0 (<span style=\"color: #0087ff; text-decoration-color: #0087ff\">Functional</span>)     │ (<span style=\"color: #00d7ff; text-decoration-color: #00d7ff\">None</span>, <span style=\"color: #00af00; text-decoration-color: #00af00\">7</span>, <span style=\"color: #00af00; text-decoration-color: #00af00\">7</span>, <span style=\"color: #00af00; text-decoration-color: #00af00\">1280</span>)     │     <span style=\"color: #00af00; text-decoration-color: #00af00\">4,049,571</span> │\n",
       "├─────────────────────────────────┼────────────────────────┼───────────────┤\n",
       "│ global_average_pooling2d        │ (<span style=\"color: #00d7ff; text-decoration-color: #00d7ff\">None</span>, <span style=\"color: #00af00; text-decoration-color: #00af00\">1280</span>)           │             <span style=\"color: #00af00; text-decoration-color: #00af00\">0</span> │\n",
       "│ (<span style=\"color: #0087ff; text-decoration-color: #0087ff\">GlobalAveragePooling2D</span>)        │                        │               │\n",
       "├─────────────────────────────────┼────────────────────────┼───────────────┤\n",
       "│ dropout (<span style=\"color: #0087ff; text-decoration-color: #0087ff\">Dropout</span>)               │ (<span style=\"color: #00d7ff; text-decoration-color: #00d7ff\">None</span>, <span style=\"color: #00af00; text-decoration-color: #00af00\">1280</span>)           │             <span style=\"color: #00af00; text-decoration-color: #00af00\">0</span> │\n",
       "├─────────────────────────────────┼────────────────────────┼───────────────┤\n",
       "│ dense (<span style=\"color: #0087ff; text-decoration-color: #0087ff\">Dense</span>)                   │ (<span style=\"color: #00d7ff; text-decoration-color: #00d7ff\">None</span>, <span style=\"color: #00af00; text-decoration-color: #00af00\">14</span>)             │        <span style=\"color: #00af00; text-decoration-color: #00af00\">17,934</span> │\n",
       "└─────────────────────────────────┴────────────────────────┴───────────────┘\n",
       "</pre>\n"
      ],
      "text/plain": [
       "┏━━━━━━━━━━━━━━━━━━━━━━━━━━━━━━━━━┳━━━━━━━━━━━━━━━━━━━━━━━━┳━━━━━━━━━━━━━━━┓\n",
       "┃\u001b[1m \u001b[0m\u001b[1mLayer (type)                   \u001b[0m\u001b[1m \u001b[0m┃\u001b[1m \u001b[0m\u001b[1mOutput Shape          \u001b[0m\u001b[1m \u001b[0m┃\u001b[1m \u001b[0m\u001b[1m      Param #\u001b[0m\u001b[1m \u001b[0m┃\n",
       "┡━━━━━━━━━━━━━━━━━━━━━━━━━━━━━━━━━╇━━━━━━━━━━━━━━━━━━━━━━━━╇━━━━━━━━━━━━━━━┩\n",
       "│ input_layer_1 (\u001b[38;5;33mInputLayer\u001b[0m)      │ (\u001b[38;5;45mNone\u001b[0m, \u001b[38;5;34m224\u001b[0m, \u001b[38;5;34m224\u001b[0m, \u001b[38;5;34m3\u001b[0m)    │             \u001b[38;5;34m0\u001b[0m │\n",
       "├─────────────────────────────────┼────────────────────────┼───────────────┤\n",
       "│ data_augmentation (\u001b[38;5;33mSequential\u001b[0m)  │ (\u001b[38;5;45mNone\u001b[0m, \u001b[38;5;34m224\u001b[0m, \u001b[38;5;34m224\u001b[0m, \u001b[38;5;34m3\u001b[0m)    │             \u001b[38;5;34m0\u001b[0m │\n",
       "├─────────────────────────────────┼────────────────────────┼───────────────┤\n",
       "│ efficientnetb0 (\u001b[38;5;33mFunctional\u001b[0m)     │ (\u001b[38;5;45mNone\u001b[0m, \u001b[38;5;34m7\u001b[0m, \u001b[38;5;34m7\u001b[0m, \u001b[38;5;34m1280\u001b[0m)     │     \u001b[38;5;34m4,049,571\u001b[0m │\n",
       "├─────────────────────────────────┼────────────────────────┼───────────────┤\n",
       "│ global_average_pooling2d        │ (\u001b[38;5;45mNone\u001b[0m, \u001b[38;5;34m1280\u001b[0m)           │             \u001b[38;5;34m0\u001b[0m │\n",
       "│ (\u001b[38;5;33mGlobalAveragePooling2D\u001b[0m)        │                        │               │\n",
       "├─────────────────────────────────┼────────────────────────┼───────────────┤\n",
       "│ dropout (\u001b[38;5;33mDropout\u001b[0m)               │ (\u001b[38;5;45mNone\u001b[0m, \u001b[38;5;34m1280\u001b[0m)           │             \u001b[38;5;34m0\u001b[0m │\n",
       "├─────────────────────────────────┼────────────────────────┼───────────────┤\n",
       "│ dense (\u001b[38;5;33mDense\u001b[0m)                   │ (\u001b[38;5;45mNone\u001b[0m, \u001b[38;5;34m14\u001b[0m)             │        \u001b[38;5;34m17,934\u001b[0m │\n",
       "└─────────────────────────────────┴────────────────────────┴───────────────┘\n"
      ]
     },
     "metadata": {},
     "output_type": "display_data"
    },
    {
     "data": {
      "text/html": [
       "<pre style=\"white-space:pre;overflow-x:auto;line-height:normal;font-family:Menlo,'DejaVu Sans Mono',consolas,'Courier New',monospace\"><span style=\"font-weight: bold\"> Total params: </span><span style=\"color: #00af00; text-decoration-color: #00af00\">4,067,505</span> (15.52 MB)\n",
       "</pre>\n"
      ],
      "text/plain": [
       "\u001b[1m Total params: \u001b[0m\u001b[38;5;34m4,067,505\u001b[0m (15.52 MB)\n"
      ]
     },
     "metadata": {},
     "output_type": "display_data"
    },
    {
     "data": {
      "text/html": [
       "<pre style=\"white-space:pre;overflow-x:auto;line-height:normal;font-family:Menlo,'DejaVu Sans Mono',consolas,'Courier New',monospace\"><span style=\"font-weight: bold\"> Trainable params: </span><span style=\"color: #00af00; text-decoration-color: #00af00\">3,457,734</span> (13.19 MB)\n",
       "</pre>\n"
      ],
      "text/plain": [
       "\u001b[1m Trainable params: \u001b[0m\u001b[38;5;34m3,457,734\u001b[0m (13.19 MB)\n"
      ]
     },
     "metadata": {},
     "output_type": "display_data"
    },
    {
     "data": {
      "text/html": [
       "<pre style=\"white-space:pre;overflow-x:auto;line-height:normal;font-family:Menlo,'DejaVu Sans Mono',consolas,'Courier New',monospace\"><span style=\"font-weight: bold\"> Non-trainable params: </span><span style=\"color: #00af00; text-decoration-color: #00af00\">609,771</span> (2.33 MB)\n",
       "</pre>\n"
      ],
      "text/plain": [
       "\u001b[1m Non-trainable params: \u001b[0m\u001b[38;5;34m609,771\u001b[0m (2.33 MB)\n"
      ]
     },
     "metadata": {},
     "output_type": "display_data"
    }
   ],
   "source": [
    "# --- Re-compile the Model for Fine-Tuning ---\n",
    "with strategy.scope():\n",
    "    model.compile(\n",
    "        optimizer=tf.keras.optimizers.Adam(learning_rate=1e-5), # Lower learning rate\n",
    "        loss=tf.keras.losses.BinaryCrossentropy(), # Can continue with the same loss\n",
    "        metrics=[tf.keras.metrics.AUC(name='auc_roc', multi_label=True)]\n",
    "    )\n",
    "\n",
    "model.summary()"
   ]
  },
  {
   "cell_type": "code",
   "execution_count": 11,
   "id": "36074a02",
   "metadata": {
    "execution": {
     "iopub.execute_input": "2025-07-10T11:02:08.323058Z",
     "iopub.status.busy": "2025-07-10T11:02:08.322240Z",
     "iopub.status.idle": "2025-07-10T20:46:14.955187Z",
     "shell.execute_reply": "2025-07-10T20:46:14.952330Z"
    },
    "papermill": {
     "duration": 35047.117445,
     "end_time": "2025-07-10T20:46:15.434275",
     "exception": false,
     "start_time": "2025-07-10T11:02:08.316830",
     "status": "completed"
    },
    "tags": []
   },
   "outputs": [
    {
     "name": "stdout",
     "output_type": "stream",
     "text": [
      "\n",
      "Starting fine-tuning...\n",
      "Epoch 1/5\n",
      "\u001b[1m2521/2521\u001b[0m \u001b[32m━━━━━━━━━━━━━━━━━━━━\u001b[0m\u001b[37m\u001b[0m \u001b[1m7020s\u001b[0m 3s/step - auc_roc: 0.5654 - loss: 0.3078 - val_auc_roc: 0.6707 - val_loss: 0.1750\n",
      "Epoch 2/5\n",
      "\u001b[1m2521/2521\u001b[0m \u001b[32m━━━━━━━━━━━━━━━━━━━━\u001b[0m\u001b[37m\u001b[0m \u001b[1m7099s\u001b[0m 3s/step - auc_roc: 0.6531 - loss: 0.1709 - val_auc_roc: 0.7071 - val_loss: 0.1721\n",
      "Epoch 3/5\n",
      "\u001b[1m2521/2521\u001b[0m \u001b[32m━━━━━━━━━━━━━━━━━━━━\u001b[0m\u001b[37m\u001b[0m \u001b[1m6958s\u001b[0m 3s/step - auc_roc: 0.6886 - loss: 0.1658 - val_auc_roc: 0.7232 - val_loss: 0.1696\n",
      "Epoch 4/5\n",
      "\u001b[1m2521/2521\u001b[0m \u001b[32m━━━━━━━━━━━━━━━━━━━━\u001b[0m\u001b[37m\u001b[0m \u001b[1m6992s\u001b[0m 3s/step - auc_roc: 0.7040 - loss: 0.1630 - val_auc_roc: 0.7311 - val_loss: 0.1680\n",
      "Epoch 5/5\n",
      "\u001b[1m2521/2521\u001b[0m \u001b[32m━━━━━━━━━━━━━━━━━━━━\u001b[0m\u001b[37m\u001b[0m \u001b[1m6964s\u001b[0m 3s/step - auc_roc: 0.7233 - loss: 0.1604 - val_auc_roc: 0.7362 - val_loss: 0.1681\n",
      "Fine-tuning complete.\n"
     ]
    }
   ],
   "source": [
    "print(\"\\nStarting fine-tuning...\")\n",
    "\n",
    "fine_tune_checkpoint = tf.keras.callbacks.ModelCheckpoint(\n",
    "    'fine_tuning_weights.weights.h5',\n",
    "    save_weights_only=True,\n",
    "    monitor='val_auc_roc',\n",
    "    mode='max',\n",
    "    save_best_only=True\n",
    ")\n",
    "\n",
    "fine_tune_early_stopping = tf.keras.callbacks.EarlyStopping(\n",
    "    monitor='val_auc_roc', \n",
    "    patience=5,\n",
    "    mode='max', \n",
    "    restore_best_weights=True\n",
    ")\n",
    "\n",
    "history_fine_tune = None\n",
    "try:\n",
    "    history_fine_tune = model.fit(\n",
    "        train_ds,\n",
    "        epochs=5,\n",
    "        validation_data=val_ds,\n",
    "        callbacks=[fine_tune_checkpoint, fine_tune_early_stopping]\n",
    "    )\n",
    "    print(\"Fine-tuning complete.\")\n",
    "except Exception as e:\n",
    "    print(f\"An error occurred during model training: {e}\")\n",
    "\n"
   ]
  },
  {
   "cell_type": "code",
   "execution_count": 12,
   "id": "28ea41cb",
   "metadata": {
    "execution": {
     "iopub.execute_input": "2025-07-10T20:46:17.207872Z",
     "iopub.status.busy": "2025-07-10T20:46:17.207186Z",
     "iopub.status.idle": "2025-07-10T20:46:18.203198Z",
     "shell.execute_reply": "2025-07-10T20:46:18.201935Z"
    },
    "papermill": {
     "duration": 1.753308,
     "end_time": "2025-07-10T20:46:18.205200",
     "exception": false,
     "start_time": "2025-07-10T20:46:16.451892",
     "status": "completed"
    },
    "tags": []
   },
   "outputs": [
    {
     "name": "stdout",
     "output_type": "stream",
     "text": [
      "Plotting and saving fine-tuning history...\n"
     ]
    },
    {
     "data": {
      "image/png": "[encoded data removed]",
      "text/plain": [
       "<Figure size 1200x1200 with 2 Axes>"
      ]
     },
     "metadata": {},
     "output_type": "display_data"
    },
    {
     "name": "stdout",
     "output_type": "stream",
     "text": [
      "History plot generated and history data saved to 'fine_tuning_history.csv' and 'history_fine_tune.pkl'.\n"
     ]
    }
   ],
   "source": [
    "if history_fine_tune:\n",
    "    print(\"Plotting and saving fine-tuning history...\")\n",
    "\n",
    "    def plot_training_history(history):\n",
    "        \"\"\"Plots training and validation loss and AUC.\"\"\"\n",
    "        fig, (ax1, ax2) = plt.subplots(2, 1, figsize=(12, 12))\n",
    "\n",
    "        # Plot Loss\n",
    "        ax1.plot(history.history['loss'], label='Training Loss')\n",
    "        ax1.plot(history.history['val_loss'], label='Validation Loss')\n",
    "        ax1.set_title('Model Loss During Fine-Tuning', fontsize=16)\n",
    "        ax1.set_ylabel('Loss')\n",
    "        ax1.set_xlabel('Epoch')\n",
    "        ax1.legend(loc='upper right')\n",
    "\n",
    "        # Plot AUC\n",
    "        ax2.plot(history.history['auc_roc'], label='Training AUC')\n",
    "        ax2.plot(history.history['val_auc_roc'], label='Validation AUC')\n",
    "        ax2.set_title('Model AUC During Fine-Tuning', fontsize=16)\n",
    "        ax2.set_ylabel('AUC')\n",
    "        ax2.set_xlabel('Epoch')\n",
    "        ax2.legend(loc='lower right')\n",
    "\n",
    "        plt.tight_layout()\n",
    "        plt.show()\n",
    "\n",
    "    # Plot the history from the fine-tuning phase\n",
    "    plot_training_history(history_fine_tune)\n",
    "\n",
    "    # Save the history object for later analysis\n",
    "    history_df = pd.DataFrame(history_fine_tune.history)\n",
    "    history_df.to_csv('fine_tuning_history.csv', index=False)\n",
    "\n",
    "    # Alternatively, save the full history object using pickle\n",
    "    with open('history_fine_tune.pkl', 'wb') as file_pi:\n",
    "        pickle.dump(history_fine_tune.history, file_pi)\n",
    "\n",
    "    print(\"History plot generated and history data saved to 'fine_tuning_history.csv' and 'history_fine_tune.pkl'.\")\n",
    "else:\n",
    "    print(\"Skipping history plotting and saving because training did not complete successfully.\")\n"
   ]
  }
 ],
 "metadata": {
  "kaggle": {
   "accelerator": "none",
   "dataSources": [
    {
     "datasetId": 5839,
     "sourceId": 18613,
     "sourceType": "datasetVersion"
    },
    {
     "sourceId": 249624719,
     "sourceType": "kernelVersion"
    }
   ],
   "dockerImageVersionId": 31089,
   "isGpuEnabled": false,
   "isInternetEnabled": true,
   "language": "python",
   "sourceType": "notebook"
  },
  "kernelspec": {
   "display_name": "Python 3",
   "language": "python",
   "name": "python3"
  },
  "language_info": {
   "codemirror_mode": {
    "name": "ipython",
    "version": 3
   },
   "file_extension": ".py",
   "mimetype": "text/x-python",
   "name": "python",
   "nbconvert_exporter": "python",
   "pygments_lexer": "ipython3",
   "version": "3.11.13"
  },
  "papermill": {
   "default_parameters": {},
   "duration": 35263.643054,
   "end_time": "2025-07-10T20:46:22.019293",
   "environment_variables": {},
   "exception": null,
   "input_path": "__notebook__.ipynb",
   "output_path": "__notebook__.ipynb",
   "parameters": {},
   "start_time": "2025-07-10T10:58:38.376239",
   "version": "2.6.0"
  }
 },
 "nbformat": 4,
 "nbformat_minor": 5
}
