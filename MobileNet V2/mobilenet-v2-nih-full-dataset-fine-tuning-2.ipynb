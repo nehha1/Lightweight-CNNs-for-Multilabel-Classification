{
 "cells": [
  {
   "cell_type": "code",
   "execution_count": 1,
   "id": "03414622",
   "metadata": {
    "_cell_guid": "b1076dfc-b9ad-4769-8c92-a6c4dae69d19",
    "_uuid": "8f2839f25d086af736a60e9eeb907d3b93b6e0e5",
    "execution": {
     "iopub.execute_input": "2025-07-07T10:20:50.689890Z",
     "iopub.status.busy": "2025-07-07T10:20:50.689466Z",
     "iopub.status.idle": "2025-07-07T10:21:11.510039Z",
     "shell.execute_reply": "2025-07-07T10:21:11.509093Z"
    },
    "papermill": {
     "duration": 20.826915,
     "end_time": "2025-07-07T10:21:11.511815",
     "exception": false,
     "start_time": "2025-07-07T10:20:50.684900",
     "status": "completed"
    },
    "tags": []
   },
   "outputs": [
    {
     "name": "stderr",
     "output_type": "stream",
     "text": [
      "2025-07-07 10:20:54.607885: E external/local_xla/xla/stream_executor/cuda/cuda_fft.cc:477] Unable to register cuFFT factory: Attempting to register factory for plugin cuFFT when one has already been registered\n",
      "WARNING: All log messages before absl::InitializeLog() is called are written to STDERR\n",
      "E0000 00:00:1751883654.861433      13 cuda_dnn.cc:8310] Unable to register cuDNN factory: Attempting to register factory for plugin cuDNN when one has already been registered\n",
      "E0000 00:00:1751883654.930896      13 cuda_blas.cc:1418] Unable to register cuBLAS factory: Attempting to register factory for plugin cuBLAS when one has already been registered\n"
     ]
    }
   ],
   "source": [
    "import os\n",
    "import glob\n",
    "import numpy as np\n",
    "import pandas as pd\n",
    "import tensorflow as tf\n",
    "from tensorflow import keras\n",
    "from tensorflow.keras import layers\n",
    "from tensorflow.keras import backend as K\n",
    "from tensorflow.keras.callbacks import ModelCheckpoint, ReduceLROnPlateau, EarlyStopping\n",
    "from sklearn.model_selection import train_test_split\n"
   ]
  },
  {
   "cell_type": "code",
   "execution_count": 2,
   "id": "c5cf7f79",
   "metadata": {
    "execution": {
     "iopub.execute_input": "2025-07-07T10:21:11.519002Z",
     "iopub.status.busy": "2025-07-07T10:21:11.518453Z",
     "iopub.status.idle": "2025-07-07T10:21:11.523603Z",
     "shell.execute_reply": "2025-07-07T10:21:11.522708Z"
    },
    "papermill": {
     "duration": 0.01025,
     "end_time": "2025-07-07T10:21:11.525117",
     "exception": false,
     "start_time": "2025-07-07T10:21:11.514867",
     "status": "completed"
    },
    "tags": []
   },
   "outputs": [],
   "source": [
    "\n",
    "IMAGE_SIZE = 224\n",
    "BATCH_SIZE_PER_REPLICA = 32\n",
    "SEED = 42\n",
    "DATA_DIR = '/kaggle/input/data'\n",
    "PREVIOUS_WEIGHTS_FILE = '/kaggle/input/mobilenet-v2-nih-full-dataset-fine-tuning-1/initial_fine_tuning_weights.weights.h5'\n",
    "NEW_MODEL_FILE = 'best_chest_xray_model.keras'\n",
    "NEW_WEIGHTS_FILE = 'best_chest_xray_weights.weights.h5'\n"
   ]
  },
  {
   "cell_type": "code",
   "execution_count": 3,
   "id": "b6c11ffb",
   "metadata": {
    "execution": {
     "iopub.execute_input": "2025-07-07T10:21:11.531996Z",
     "iopub.status.busy": "2025-07-07T10:21:11.531675Z",
     "iopub.status.idle": "2025-07-07T10:21:11.575026Z",
     "shell.execute_reply": "2025-07-07T10:21:11.574052Z"
    },
    "papermill": {
     "duration": 0.048563,
     "end_time": "2025-07-07T10:21:11.576620",
     "exception": false,
     "start_time": "2025-07-07T10:21:11.528057",
     "status": "completed"
    },
    "tags": []
   },
   "outputs": [
    {
     "name": "stderr",
     "output_type": "stream",
     "text": [
      "2025-07-07 10:21:11.535767: E external/local_xla/xla/stream_executor/cuda/cuda_driver.cc:152] failed call to cuInit: INTERNAL: CUDA error: Failed call to cuInit: UNKNOWN ERROR (303)\n"
     ]
    }
   ],
   "source": [
    "try:\n",
    "    tpu = tf.distribute.cluster_resolver.TPUClusterResolver.connect()\n",
    "    strategy = tf.distribute.TPUStrategy(tpu)\n",
    "except ValueError:\n",
    "    strategy = tf.distribute.MirroredStrategy()\n",
    "\n",
    "REPLICAS = strategy.num_replicas_in_sync\n",
    "BATCH_SIZE = BATCH_SIZE_PER_REPLICA * REPLICAS\n"
   ]
  },
  {
   "cell_type": "code",
   "execution_count": 4,
   "id": "ecf8e7aa",
   "metadata": {
    "execution": {
     "iopub.execute_input": "2025-07-07T10:21:11.584068Z",
     "iopub.status.busy": "2025-07-07T10:21:11.583171Z",
     "iopub.status.idle": "2025-07-07T10:23:45.318047Z",
     "shell.execute_reply": "2025-07-07T10:23:45.317012Z"
    },
    "papermill": {
     "duration": 153.740307,
     "end_time": "2025-07-07T10:23:45.319839",
     "exception": false,
     "start_time": "2025-07-07T10:21:11.579532",
     "status": "completed"
    },
    "tags": []
   },
   "outputs": [],
   "source": [
    "df = pd.read_csv(os.path.join(DATA_DIR, 'Data_Entry_2017.csv'))\n",
    "all_image_paths = {os.path.basename(p): p for p in glob.glob(os.path.join(DATA_DIR, '**', '*.png'), recursive=True)}\n",
    "df['path'] = df['Image Index'].map(all_image_paths.get)\n",
    "df = df.dropna(subset=['path'])\n",
    "\n"
   ]
  },
  {
   "cell_type": "code",
   "execution_count": 5,
   "id": "f1975355",
   "metadata": {
    "execution": {
     "iopub.execute_input": "2025-07-07T10:23:45.327414Z",
     "iopub.status.busy": "2025-07-07T10:23:45.327046Z",
     "iopub.status.idle": "2025-07-07T10:23:45.760090Z",
     "shell.execute_reply": "2025-07-07T10:23:45.758982Z"
    },
    "papermill": {
     "duration": 0.43868,
     "end_time": "2025-07-07T10:23:45.761869",
     "exception": false,
     "start_time": "2025-07-07T10:23:45.323189",
     "status": "completed"
    },
    "tags": []
   },
   "outputs": [],
   "source": [
    "all_labels = sorted(['Atelectasis', 'Cardiomegaly', 'Consolidation', 'Edema', 'Effusion', 'Emphysema', 'Fibrosis', 'Hernia', 'Infiltration', 'Mass', 'Nodule', 'Pleural_Thickening', 'Pneumonia', 'Pneumothorax'])\n",
    "\n",
    "for label in all_labels:\n",
    "    df[label] = df['Finding Labels'].map(lambda finding: 1.0 if label in finding else 0.0)\n",
    "\n",
    "patient_ids = df['Patient ID'].unique()\n",
    "train_val_ids, test_ids = train_test_split(patient_ids, test_size=0.2, random_state=SEED)\n",
    "train_ids, val_ids = train_test_split(train_val_ids, test_size=0.1, random_state=SEED)\n",
    "\n",
    "train_df = df[df['Patient ID'].isin(train_ids)]\n",
    "val_df = df[df['Patient ID'].isin(val_ids)]\n",
    "test_df = df[df['Patient ID'].isin(test_ids)]\n",
    "\n",
    "pos_counts = train_df[all_labels].sum()\n",
    "neg_counts = len(train_df) - pos_counts\n",
    "weights = np.zeros((len(all_labels), 2))\n",
    "total_samples = len(train_df)\n",
    "for i, label in enumerate(all_labels):\n",
    "    pos_weight = (1 / pos_counts[label]) * (total_samples / 2.0)\n",
    "    neg_weight = (1 / neg_counts[label]) * (total_samples / 2.0)\n",
    "    weights[i, 1] = pos_weight\n",
    "    weights[i, 0] = neg_weight\n"
   ]
  },
  {
   "cell_type": "code",
   "execution_count": 6,
   "id": "40a02ef7",
   "metadata": {
    "execution": {
     "iopub.execute_input": "2025-07-07T10:23:45.769076Z",
     "iopub.status.busy": "2025-07-07T10:23:45.768791Z",
     "iopub.status.idle": "2025-07-07T10:23:46.277693Z",
     "shell.execute_reply": "2025-07-07T10:23:46.276656Z"
    },
    "papermill": {
     "duration": 0.51436,
     "end_time": "2025-07-07T10:23:46.279372",
     "exception": false,
     "start_time": "2025-07-07T10:23:45.765012",
     "status": "completed"
    },
    "tags": []
   },
   "outputs": [],
   "source": [
    "def parse_image(path, label):\n",
    "    image = tf.io.read_file(path)\n",
    "    image = tf.image.decode_png(image, channels=3)\n",
    "    image = tf.image.convert_image_dtype(image, tf.float32)\n",
    "    image = tf.image.resize(image, size=[IMAGE_SIZE, IMAGE_SIZE])\n",
    "    return image, label\n",
    "\n",
    "data_augmentation_pipeline = keras.Sequential([\n",
    "    layers.RandomFlip(\"horizontal\"),\n",
    "    layers.RandomRotation(0.1),\n",
    "    layers.RandomZoom(0.1),\n",
    "], name=\"data_augmentation\")\n",
    "\n",
    "def create_dataset(df, augment=False):\n",
    "    dataset = tf.data.Dataset.from_tensor_slices((df['path'].values, df[all_labels].values))\n",
    "    AUTOTUNE = tf.data.AUTOTUNE\n",
    "    dataset = dataset.map(parse_image, num_parallel_calls=AUTOTUNE)\n",
    "    if augment:\n",
    "        dataset = dataset.map(lambda x, y: (data_augmentation_pipeline(x, training=True), y), num_parallel_calls=AUTOTUNE)\n",
    "    dataset = dataset.shuffle(buffer_size=2048).batch(BATCH_SIZE).prefetch(buffer_size=AUTOTUNE)\n",
    "    return dataset\n",
    "\n",
    "train_ds = create_dataset(train_df, augment=True)\n",
    "val_ds = create_dataset(val_df)\n",
    "test_ds = create_dataset(test_df)\n"
   ]
  },
  {
   "cell_type": "code",
   "execution_count": 7,
   "id": "2cd8a22d",
   "metadata": {
    "execution": {
     "iopub.execute_input": "2025-07-07T10:23:46.287059Z",
     "iopub.status.busy": "2025-07-07T10:23:46.286120Z",
     "iopub.status.idle": "2025-07-07T10:23:48.565569Z",
     "shell.execute_reply": "2025-07-07T10:23:48.564647Z"
    },
    "papermill": {
     "duration": 2.285008,
     "end_time": "2025-07-07T10:23:48.567333",
     "exception": false,
     "start_time": "2025-07-07T10:23:46.282325",
     "status": "completed"
    },
    "tags": []
   },
   "outputs": [
    {
     "name": "stdout",
     "output_type": "stream",
     "text": [
      "Downloading data from https://storage.googleapis.com/tensorflow/keras-applications/mobilenet_v2/mobilenet_v2_weights_tf_dim_ordering_tf_kernels_1.0_224_no_top.h5\n",
      "\u001b[1m9406464/9406464\u001b[0m \u001b[32m━━━━━━━━━━━━━━━━━━━━\u001b[0m\u001b[37m\u001b[0m \u001b[1m0s\u001b[0m 0us/step\n"
     ]
    }
   ],
   "source": [
    "# Define data augmentation pipeline correctly\n",
    "data_augmentation_pipeline = tf.keras.Sequential([\n",
    "    tf.keras.layers.RandomFlip(\"horizontal\"),\n",
    "    tf.keras.layers.RandomRotation(0.1),\n",
    "    tf.keras.layers.RandomZoom(0.1),\n",
    "], name=\"data_augmentation\")\n",
    "\n",
    "# Define custom weighted loss function\n",
    "def get_weighted_loss(weights):\n",
    "    weights = tf.constant(weights, dtype=tf.float32)\n",
    "    def weighted_loss(y_true, y_pred):\n",
    "        y_true = tf.cast(y_true, tf.float32)\n",
    "        bce = K.binary_crossentropy(y_true, y_pred)\n",
    "        loss_weights = (weights[:, 1] * y_true) + (weights[:, 0] * (1 - y_true))\n",
    "        weighted_bce = loss_weights * bce\n",
    "        return K.mean(weighted_bce)\n",
    "    return weighted_loss\n",
    "\n",
    "with strategy.scope():\n",
    "    base_model = tf.keras.applications.MobileNetV2(\n",
    "        input_shape=(IMAGE_SIZE, IMAGE_SIZE, 3),\n",
    "        include_top=False,\n",
    "        weights='imagenet'\n",
    "    )\n",
    "    base_model.trainable = False\n",
    "\n",
    "    # Model architecture\n",
    "    inputs = tf.keras.layers.Input(shape=(IMAGE_SIZE, IMAGE_SIZE, 3))\n",
    "    x = data_augmentation_pipeline(inputs)\n",
    "    x = base_model(x, training=False)\n",
    "    x = tf.keras.layers.GlobalAveragePooling2D()(x)\n",
    "    x = tf.keras.layers.Dropout(0.4)(x)\n",
    "    outputs = tf.keras.layers.Dense(len(all_labels), activation='sigmoid')(x)\n",
    "    model = tf.keras.Model(inputs, outputs)\n",
    "\n",
    "    \n",
    "    try:\n",
    "        model.load_weights(PREVIOUS_WEIGHTS_FILE)\n",
    "    except Exception as e:\n",
    "        print(f\"Could not load weights. Error: {e}\")\n",
    "\n",
    "    # Unfreeze last 75% of base_model layers\n",
    "    base_model.trainable = True\n",
    "    total_layers = len(base_model.layers)\n",
    "    unfreeze_at = int(total_layers * 0.25)\n",
    "    for layer in base_model.layers[:unfreeze_at]:\n",
    "        layer.trainable = False\n",
    "\n",
    "    # Compile model with weighted loss\n",
    "    model.compile(\n",
    "        optimizer=tf.keras.optimizers.AdamW(learning_rate=1e-5, weight_decay=1e-6),\n",
    "        loss=get_weighted_loss(weights),\n",
    "        metrics=[tf.keras.metrics.AUC(name='auc_roc', multi_label=True)]\n",
    "    )\n"
   ]
  },
  {
   "cell_type": "code",
   "execution_count": 8,
   "id": "72cec06b",
   "metadata": {
    "execution": {
     "iopub.execute_input": "2025-07-07T10:23:48.574651Z",
     "iopub.status.busy": "2025-07-07T10:23:48.574224Z",
     "iopub.status.idle": "2025-07-07T10:23:48.579512Z",
     "shell.execute_reply": "2025-07-07T10:23:48.578642Z"
    },
    "papermill": {
     "duration": 0.010608,
     "end_time": "2025-07-07T10:23:48.581010",
     "exception": false,
     "start_time": "2025-07-07T10:23:48.570402",
     "status": "completed"
    },
    "tags": []
   },
   "outputs": [],
   "source": [
    "checkpoint_model_callback = ModelCheckpoint(\n",
    "    filepath=NEW_MODEL_FILE,\n",
    "    save_weights_only=False,\n",
    "    monitor='val_auc_roc',\n",
    "    mode='max',\n",
    "    save_best_only=True,\n",
    "    verbose=1\n",
    ")\n",
    "\n",
    "checkpoint_weights_callback = ModelCheckpoint(\n",
    "    filepath=NEW_WEIGHTS_FILE,\n",
    "    save_weights_only=True,\n",
    "    monitor='val_auc_roc',\n",
    "    mode='max',\n",
    "    save_best_only=True,\n",
    "    verbose=1\n",
    ")\n"
   ]
  },
  {
   "cell_type": "code",
   "execution_count": 9,
   "id": "ae5af4cb",
   "metadata": {
    "execution": {
     "iopub.execute_input": "2025-07-07T10:23:48.588352Z",
     "iopub.status.busy": "2025-07-07T10:23:48.587986Z",
     "iopub.status.idle": "2025-07-07T18:12:00.706459Z",
     "shell.execute_reply": "2025-07-07T18:12:00.703075Z"
    },
    "papermill": {
     "duration": 28092.81921,
     "end_time": "2025-07-07T18:12:01.403262",
     "exception": false,
     "start_time": "2025-07-07T10:23:48.584052",
     "status": "completed"
    },
    "tags": []
   },
   "outputs": [
    {
     "name": "stdout",
     "output_type": "stream",
     "text": [
      "Epoch 1/5\n",
      "\u001b[1m2521/2521\u001b[0m \u001b[32m━━━━━━━━━━━━━━━━━━━━\u001b[0m\u001b[37m\u001b[0m \u001b[1m0s\u001b[0m 2s/step - auc_roc: 0.5706 - loss: 0.7005\n",
      "Epoch 1: val_auc_roc improved from -inf to 0.63451, saving model to best_chest_xray_model.keras\n",
      "\n",
      "Epoch 1: val_auc_roc improved from -inf to 0.63451, saving model to best_chest_xray_weights.weights.h5\n",
      "\u001b[1m2521/2521\u001b[0m \u001b[32m━━━━━━━━━━━━━━━━━━━━\u001b[0m\u001b[37m\u001b[0m \u001b[1m5506s\u001b[0m 2s/step - auc_roc: 0.5706 - loss: 0.7004 - val_auc_roc: 0.6345 - val_loss: 0.6574 - learning_rate: 1.0000e-05\n",
      "Epoch 2/5\n",
      "\u001b[1m2521/2521\u001b[0m \u001b[32m━━━━━━━━━━━━━━━━━━━━\u001b[0m\u001b[37m\u001b[0m \u001b[1m0s\u001b[0m 2s/step - auc_roc: 0.6296 - loss: 0.6645\n",
      "Epoch 2: val_auc_roc improved from 0.63451 to 0.66771, saving model to best_chest_xray_model.keras\n",
      "\n",
      "Epoch 2: val_auc_roc improved from 0.63451 to 0.66771, saving model to best_chest_xray_weights.weights.h5\n",
      "\u001b[1m2521/2521\u001b[0m \u001b[32m━━━━━━━━━━━━━━━━━━━━\u001b[0m\u001b[37m\u001b[0m \u001b[1m5814s\u001b[0m 2s/step - auc_roc: 0.6296 - loss: 0.6645 - val_auc_roc: 0.6677 - val_loss: 0.6383 - learning_rate: 1.0000e-05\n",
      "Epoch 3/5\n",
      "\u001b[1m2521/2521\u001b[0m \u001b[32m━━━━━━━━━━━━━━━━━━━━\u001b[0m\u001b[37m\u001b[0m \u001b[1m0s\u001b[0m 2s/step - auc_roc: 0.6597 - loss: 0.6493\n",
      "Epoch 3: val_auc_roc improved from 0.66771 to 0.69497, saving model to best_chest_xray_model.keras\n",
      "\n",
      "Epoch 3: val_auc_roc improved from 0.66771 to 0.69497, saving model to best_chest_xray_weights.weights.h5\n",
      "\u001b[1m2521/2521\u001b[0m \u001b[32m━━━━━━━━━━━━━━━━━━━━\u001b[0m\u001b[37m\u001b[0m \u001b[1m5465s\u001b[0m 2s/step - auc_roc: 0.6598 - loss: 0.6493 - val_auc_roc: 0.6950 - val_loss: 0.6279 - learning_rate: 1.0000e-05\n",
      "Epoch 4/5\n",
      "\u001b[1m2521/2521\u001b[0m \u001b[32m━━━━━━━━━━━━━━━━━━━━\u001b[0m\u001b[37m\u001b[0m \u001b[1m0s\u001b[0m 2s/step - auc_roc: 0.6779 - loss: 0.6380\n",
      "Epoch 4: val_auc_roc improved from 0.69497 to 0.70225, saving model to best_chest_xray_model.keras\n",
      "\n",
      "Epoch 4: val_auc_roc improved from 0.69497 to 0.70225, saving model to best_chest_xray_weights.weights.h5\n",
      "\u001b[1m2521/2521\u001b[0m \u001b[32m━━━━━━━━━━━━━━━━━━━━\u001b[0m\u001b[37m\u001b[0m \u001b[1m5359s\u001b[0m 2s/step - auc_roc: 0.6779 - loss: 0.6380 - val_auc_roc: 0.7023 - val_loss: 0.6223 - learning_rate: 1.0000e-05\n",
      "Epoch 5/5\n",
      "\u001b[1m2521/2521\u001b[0m \u001b[32m━━━━━━━━━━━━━━━━━━━━\u001b[0m\u001b[37m\u001b[0m \u001b[1m0s\u001b[0m 2s/step - auc_roc: 0.6917 - loss: 0.6297\n",
      "Epoch 5: val_auc_roc improved from 0.70225 to 0.71110, saving model to best_chest_xray_model.keras\n",
      "\n",
      "Epoch 5: val_auc_roc improved from 0.70225 to 0.71110, saving model to best_chest_xray_weights.weights.h5\n",
      "\u001b[1m2521/2521\u001b[0m \u001b[32m━━━━━━━━━━━━━━━━━━━━\u001b[0m\u001b[37m\u001b[0m \u001b[1m5290s\u001b[0m 2s/step - auc_roc: 0.6917 - loss: 0.6297 - val_auc_roc: 0.7111 - val_loss: 0.6157 - learning_rate: 1.0000e-05\n",
      "Restoring model weights from the end of the best epoch: 5.\n",
      "\u001b[1m697/697\u001b[0m \u001b[32m━━━━━━━━━━━━━━━━━━━━\u001b[0m\u001b[37m\u001b[0m \u001b[1m606s\u001b[0m 834ms/step - auc_roc: 0.7149 - loss: 0.6175\n",
      "\n",
      "Test Set Evaluation Results:\n",
      "loss: 0.6243\n",
      "compile_metrics: 0.7142\n"
     ]
    }
   ],
   "source": [
    "reduce_lr_callback = ReduceLROnPlateau(\n",
    "    monitor='val_loss', factor=0.2, patience=2, min_lr=1e-7, verbose=1\n",
    ")\n",
    "\n",
    "early_stopping_callback = EarlyStopping(\n",
    "    monitor='val_loss', patience=5, restore_best_weights=True, verbose=1\n",
    ")\n",
    "\n",
    "history = model.fit(\n",
    "    train_ds,\n",
    "    epochs=5,\n",
    "    validation_data=val_ds,\n",
    "    callbacks=[\n",
    "        checkpoint_model_callback,\n",
    "        checkpoint_weights_callback,\n",
    "        reduce_lr_callback,\n",
    "        early_stopping_callback\n",
    "    ]\n",
    ")\n",
    "\n",
    "loaded_model = tf.keras.models.load_model(\n",
    "    NEW_MODEL_FILE,\n",
    "    custom_objects={'weighted_loss': get_weighted_loss(weights)}\n",
    ")\n",
    "\n",
    "results = loaded_model.evaluate(test_ds)\n",
    "print(\"\\nTest Set Evaluation Results:\")\n",
    "for name, value in zip(loaded_model.metrics_names, results):\n",
    "    print(f\"{name}: {value:.4f}\")"
   ]
  },
  {
   "cell_type": "code",
   "execution_count": null,
   "id": "c5b71ad1",
   "metadata": {
    "papermill": {
     "duration": 0.687737,
     "end_time": "2025-07-07T18:12:02.936308",
     "exception": false,
     "start_time": "2025-07-07T18:12:02.248571",
     "status": "completed"
    },
    "tags": []
   },
   "outputs": [],
   "source": []
  }
 ],
 "metadata": {
  "kaggle": {
   "accelerator": "none",
   "dataSources": [
    {
     "datasetId": 5839,
     "sourceId": 18613,
     "sourceType": "datasetVersion"
    },
    {
     "sourceId": 249100549,
     "sourceType": "kernelVersion"
    }
   ],
   "dockerImageVersionId": 31040,
   "isGpuEnabled": false,
   "isInternetEnabled": true,
   "language": "python",
   "sourceType": "notebook"
  },
  "kernelspec": {
   "display_name": "Python 3",
   "language": "python",
   "name": "python3"
  },
  "language_info": {
   "codemirror_mode": {
    "name": "ipython",
    "version": 3
   },
   "file_extension": ".py",
   "mimetype": "text/x-python",
   "name": "python",
   "nbconvert_exporter": "python",
   "pygments_lexer": "ipython3",
   "version": "3.11.11"
  },
  "papermill": {
   "default_parameters": {},
   "duration": 28281.096845,
   "end_time": "2025-07-07T18:12:06.821898",
   "environment_variables": {},
   "exception": null,
   "input_path": "__notebook__.ipynb",
   "output_path": "__notebook__.ipynb",
   "parameters": {},
   "start_time": "2025-07-07T10:20:45.725053",
   "version": "2.6.0"
  }
 },
 "nbformat": 4,
 "nbformat_minor": 5
}
