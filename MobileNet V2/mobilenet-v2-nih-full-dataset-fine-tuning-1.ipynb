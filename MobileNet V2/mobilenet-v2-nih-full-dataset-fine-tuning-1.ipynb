{
 "cells": [
  {
   "cell_type": "code",
   "execution_count": 1,
   "id": "c7149c72",
   "metadata": {
    "_cell_guid": "b1076dfc-b9ad-4769-8c92-a6c4dae69d19",
    "_uuid": "8f2839f25d086af736a60e9eeb907d3b93b6e0e5",
    "execution": {
     "iopub.execute_input": "2025-07-06T16:39:01.373646Z",
     "iopub.status.busy": "2025-07-06T16:39:01.373294Z",
     "iopub.status.idle": "2025-07-06T16:39:23.820188Z",
     "shell.execute_reply": "2025-07-06T16:39:23.819287Z"
    },
    "papermill": {
     "duration": 22.453919,
     "end_time": "2025-07-06T16:39:23.821836",
     "exception": false,
     "start_time": "2025-07-06T16:39:01.367917",
     "status": "completed"
    },
    "tags": []
   },
   "outputs": [
    {
     "name": "stderr",
     "output_type": "stream",
     "text": [
      "2025-07-06 16:39:07.934835: E external/local_xla/xla/stream_executor/cuda/cuda_fft.cc:477] Unable to register cuFFT factory: Attempting to register factory for plugin cuFFT when one has already been registered\n",
      "WARNING: All log messages before absl::InitializeLog() is called are written to STDERR\n",
      "E0000 00:00:1751819948.217520      13 cuda_dnn.cc:8310] Unable to register cuDNN factory: Attempting to register factory for plugin cuDNN when one has already been registered\n",
      "E0000 00:00:1751819948.298132      13 cuda_blas.cc:1418] Unable to register cuBLAS factory: Attempting to register factory for plugin cuBLAS when one has already been registered\n"
     ]
    },
    {
     "name": "stdout",
     "output_type": "stream",
     "text": [
      "TensorFlow Version: 2.18.0\n"
     ]
    }
   ],
   "source": [
    "import os\n",
    "import glob\n",
    "import numpy as np\n",
    "import pandas as pd\n",
    "import matplotlib.pyplot as plt\n",
    "import seaborn as sns\n",
    "from itertools import chain\n",
    "from sklearn.model_selection import train_test_split\n",
    "from sklearn.metrics import classification_report, roc_curve, auc, confusion_matrix, precision_recall_curve\n",
    "import tensorflow as tf\n",
    "from tensorflow import keras\n",
    "from tensorflow.keras import layers\n",
    "from tensorflow.keras import backend as K\n",
    "\n",
    "print(\"TensorFlow Version:\", tf.__version__)"
   ]
  },
  {
   "cell_type": "code",
   "execution_count": 2,
   "id": "a5c872d3",
   "metadata": {
    "execution": {
     "iopub.execute_input": "2025-07-06T16:39:23.830146Z",
     "iopub.status.busy": "2025-07-06T16:39:23.829553Z",
     "iopub.status.idle": "2025-07-06T16:39:23.834728Z",
     "shell.execute_reply": "2025-07-06T16:39:23.833743Z"
    },
    "papermill": {
     "duration": 0.010943,
     "end_time": "2025-07-06T16:39:23.836389",
     "exception": false,
     "start_time": "2025-07-06T16:39:23.825446",
     "status": "completed"
    },
    "tags": []
   },
   "outputs": [],
   "source": [
    "IMAGE_SIZE = 224\n",
    "BATCH_SIZE_PER_REPLICA = 32\n",
    "SEED = 42\n",
    "DATA_DIR = '/kaggle/input/data'\n",
    "WEIGHTS_FILE= '/kaggle/input/mobilenet-v2-nih-full-dataset/initial_training_weights.weights.h5'"
   ]
  },
  {
   "cell_type": "code",
   "execution_count": 3,
   "id": "aca7def8",
   "metadata": {
    "execution": {
     "iopub.execute_input": "2025-07-06T16:39:23.845001Z",
     "iopub.status.busy": "2025-07-06T16:39:23.844701Z",
     "iopub.status.idle": "2025-07-06T16:39:23.889731Z",
     "shell.execute_reply": "2025-07-06T16:39:23.888757Z"
    },
    "papermill": {
     "duration": 0.051078,
     "end_time": "2025-07-06T16:39:23.891245",
     "exception": false,
     "start_time": "2025-07-06T16:39:23.840167",
     "status": "completed"
    },
    "tags": []
   },
   "outputs": [
    {
     "name": "stdout",
     "output_type": "stream",
     "text": [
      "Running on GPU(s)\n",
      "REPLICAS:  1\n",
      "Effective batch size: 32\n"
     ]
    },
    {
     "name": "stderr",
     "output_type": "stream",
     "text": [
      "2025-07-06 16:39:23.848990: E external/local_xla/xla/stream_executor/cuda/cuda_driver.cc:152] failed call to cuInit: INTERNAL: CUDA error: Failed call to cuInit: UNKNOWN ERROR (303)\n"
     ]
    }
   ],
   "source": [
    "try:\n",
    "    tpu = tf.distribute.cluster_resolver.TPUClusterResolver.connect()\n",
    "    strategy = tf.distribute.TPUStrategy(tpu)\n",
    "    print('Running on TPU')\n",
    "except ValueError:\n",
    "    strategy = tf.distribute.MirroredStrategy()\n",
    "    print('Running on GPU(s)')\n",
    "\n",
    "print(\"REPLICAS: \", strategy.num_replicas_in_sync)\n",
    "BATCH_SIZE = BATCH_SIZE_PER_REPLICA * strategy.num_replicas_in_sync\n",
    "print(f\"Effective batch size: {BATCH_SIZE}\")"
   ]
  },
  {
   "cell_type": "code",
   "execution_count": 4,
   "id": "ed08a00f",
   "metadata": {
    "execution": {
     "iopub.execute_input": "2025-07-06T16:39:23.899280Z",
     "iopub.status.busy": "2025-07-06T16:39:23.898910Z",
     "iopub.status.idle": "2025-07-06T16:41:34.601504Z",
     "shell.execute_reply": "2025-07-06T16:41:34.600633Z"
    },
    "papermill": {
     "duration": 130.708538,
     "end_time": "2025-07-06T16:41:34.603140",
     "exception": false,
     "start_time": "2025-07-06T16:39:23.894602",
     "status": "completed"
    },
    "tags": []
   },
   "outputs": [
    {
     "name": "stdout",
     "output_type": "stream",
     "text": [
      "Metadata loaded successfully.\n",
      "Found 112120 images with corresponding metadata.\n",
      "All Labels (14): ['Atelectasis', 'Cardiomegaly', 'Consolidation', 'Edema', 'Effusion', 'Emphysema', 'Fibrosis', 'Hernia', 'Infiltration', 'Mass', 'Nodule', 'Pleural_Thickening', 'Pneumonia', 'Pneumothorax']\n"
     ]
    }
   ],
   "source": [
    "try:\n",
    "    df = pd.read_csv(os.path.join(DATA_DIR, 'Data_Entry_2017.csv'))\n",
    "    print(\"Metadata loaded successfully.\")\n",
    "except FileNotFoundError:\n",
    "    print(f\"Error: 'Data_Entry_2017.csv' not found in '{DATA_DIR}'.\")\n",
    "    exit()\n",
    "\n",
    "all_image_paths = {os.path.basename(p): p for p in glob.glob(os.path.join(DATA_DIR, '**', '*.png'), recursive=True)}\n",
    "df['path'] = df['Image Index'].map(all_image_paths.get)\n",
    "df = df.dropna(subset=['path'])\n",
    "print(f\"Found {len(df)} images with corresponding metadata.\")\n",
    "\n",
    "all_labels = np.unique(list(chain.from_iterable(df['Finding Labels'].map(lambda x: x.split('|')).tolist())))\n",
    "all_labels = [label for label in all_labels if label != 'No Finding']\n",
    "print(f'All Labels ({len(all_labels)}): {all_labels}')\n",
    "\n",
    "for label in all_labels:\n",
    "    df[label] = df['Finding Labels'].map(lambda finding: 1.0 if label in finding else 0.0)"
   ]
  },
  {
   "cell_type": "code",
   "execution_count": 5,
   "id": "6b8c3c4f",
   "metadata": {
    "execution": {
     "iopub.execute_input": "2025-07-06T16:41:34.611152Z",
     "iopub.status.busy": "2025-07-06T16:41:34.610853Z",
     "iopub.status.idle": "2025-07-06T16:41:34.669532Z",
     "shell.execute_reply": "2025-07-06T16:41:34.668548Z"
    },
    "papermill": {
     "duration": 0.064649,
     "end_time": "2025-07-06T16:41:34.671102",
     "exception": false,
     "start_time": "2025-07-06T16:41:34.606453",
     "status": "completed"
    },
    "tags": []
   },
   "outputs": [
    {
     "name": "stdout",
     "output_type": "stream",
     "text": [
      "Total Patients: 30805\n",
      "Train Patients: 22179, Validation Patients: 2465, Test Patients: 6161\n",
      "Train Samples: 80657, Validation Samples: 9169, Test Samples: 22294\n"
     ]
    }
   ],
   "source": [
    "patient_ids = df['Patient ID'].unique()\n",
    "train_val_ids, test_ids = train_test_split(patient_ids, test_size=0.2, random_state=SEED)\n",
    "train_ids, val_ids = train_test_split(train_val_ids, test_size=0.1, random_state=SEED)\n",
    "\n",
    "train_df = df[df['Patient ID'].isin(train_ids)]\n",
    "val_df = df[df['Patient ID'].isin(val_ids)]\n",
    "test_df = df[df['Patient ID'].isin(test_ids)]\n",
    "\n",
    "print(f\"Total Patients: {len(patient_ids)}\")\n",
    "print(f\"Train Patients: {len(train_ids)}, Validation Patients: {len(val_ids)}, Test Patients: {len(test_ids)}\")\n",
    "print(f\"Train Samples: {len(train_df)}, Validation Samples: {len(val_df)}, Test Samples: {len(test_df)}\")"
   ]
  },
  {
   "cell_type": "code",
   "execution_count": 6,
   "id": "9becde48",
   "metadata": {
    "execution": {
     "iopub.execute_input": "2025-07-06T16:41:34.679133Z",
     "iopub.status.busy": "2025-07-06T16:41:34.678853Z",
     "iopub.status.idle": "2025-07-06T16:41:34.702959Z",
     "shell.execute_reply": "2025-07-06T16:41:34.701822Z"
    },
    "papermill": {
     "duration": 0.02991,
     "end_time": "2025-07-06T16:41:34.704607",
     "exception": false,
     "start_time": "2025-07-06T16:41:34.674697",
     "status": "completed"
    },
    "tags": []
   },
   "outputs": [
    {
     "name": "stdout",
     "output_type": "stream",
     "text": [
      "Weights calculated successfully.\n"
     ]
    }
   ],
   "source": [
    "pos_counts = train_df[all_labels].sum()\n",
    "neg_counts = len(train_df) - pos_counts\n",
    "weights = np.zeros((len(all_labels), 2))\n",
    "total_samples = len(train_df)\n",
    "for i, label in enumerate(all_labels):\n",
    "    pos_weight = (1 / pos_counts[label]) * (total_samples / 2.0)\n",
    "    neg_weight = (1 / neg_counts[label]) * (total_samples / 2.0)\n",
    "    weights[i, 1] = pos_weight\n",
    "    weights[i, 0] = neg_weight\n",
    "print(\"Weights calculated successfully.\")"
   ]
  },
  {
   "cell_type": "code",
   "execution_count": 7,
   "id": "919165be",
   "metadata": {
    "execution": {
     "iopub.execute_input": "2025-07-06T16:41:34.712911Z",
     "iopub.status.busy": "2025-07-06T16:41:34.712590Z",
     "iopub.status.idle": "2025-07-06T16:41:34.921320Z",
     "shell.execute_reply": "2025-07-06T16:41:34.920289Z"
    },
    "papermill": {
     "duration": 0.214898,
     "end_time": "2025-07-06T16:41:34.923033",
     "exception": false,
     "start_time": "2025-07-06T16:41:34.708135",
     "status": "completed"
    },
    "tags": []
   },
   "outputs": [
    {
     "name": "stdout",
     "output_type": "stream",
     "text": [
      "tf.data pipelines created successfully.\n"
     ]
    }
   ],
   "source": [
    "data_augmentation_pipeline = keras.Sequential([\n",
    "    layers.RandomFlip(\"horizontal\"),\n",
    "    layers.RandomRotation(0.1),\n",
    "    layers.RandomZoom(0.1),\n",
    "    layers.RandomBrightness(0.1)\n",
    "], name=\"data_augmentation\")\n",
    "\n",
    "def parse_image(path, label):\n",
    "    image = tf.io.read_file(path)\n",
    "    image = tf.image.decode_png(image, channels=3)\n",
    "    image = tf.image.convert_image_dtype(image, tf.float32)\n",
    "    image = tf.image.resize(image, size=[IMAGE_SIZE, IMAGE_SIZE])\n",
    "    return image, label\n",
    "\n",
    "def create_dataset(df):\n",
    "    dataset = tf.data.Dataset.from_tensor_slices((df['path'].values, df[all_labels].values))\n",
    "    AUTOTUNE = tf.data.AUTOTUNE\n",
    "    dataset = dataset.map(parse_image, num_parallel_calls=AUTOTUNE)\n",
    "    dataset = dataset.shuffle(buffer_size=1024).batch(BATCH_SIZE).prefetch(buffer_size=AUTOTUNE)\n",
    "    return dataset\n",
    "\n",
    "train_ds = create_dataset(train_df)\n",
    "val_ds = create_dataset(val_df)\n",
    "test_ds = create_dataset(test_df)\n",
    "print(\"tf.data pipelines created successfully.\")"
   ]
  },
  {
   "cell_type": "code",
   "execution_count": 8,
   "id": "e40cb43e",
   "metadata": {
    "execution": {
     "iopub.execute_input": "2025-07-06T16:41:34.931293Z",
     "iopub.status.busy": "2025-07-06T16:41:34.930950Z",
     "iopub.status.idle": "2025-07-06T16:41:34.936388Z",
     "shell.execute_reply": "2025-07-06T16:41:34.935509Z"
    },
    "papermill": {
     "duration": 0.011356,
     "end_time": "2025-07-06T16:41:34.937899",
     "exception": false,
     "start_time": "2025-07-06T16:41:34.926543",
     "status": "completed"
    },
    "tags": []
   },
   "outputs": [],
   "source": [
    "def get_weighted_loss(weights):\n",
    "    weights = tf.constant(weights, dtype=tf.float32)\n",
    "    def weighted_loss(y_true, y_pred):\n",
    "        y_true = tf.cast(y_true, tf.float32)\n",
    "        bce = K.binary_crossentropy(y_true, y_pred)\n",
    "        loss_weights = (weights[:, 1] * y_true) + (weights[:, 0] * (1 - y_true))\n",
    "        weighted_bce = loss_weights * bce\n",
    "        return K.mean(weighted_bce)\n",
    "    return weighted_loss"
   ]
  },
  {
   "cell_type": "code",
   "execution_count": 9,
   "id": "0851150c",
   "metadata": {
    "execution": {
     "iopub.execute_input": "2025-07-06T16:41:34.946602Z",
     "iopub.status.busy": "2025-07-06T16:41:34.946254Z",
     "iopub.status.idle": "2025-07-06T16:41:37.082240Z",
     "shell.execute_reply": "2025-07-06T16:41:37.081499Z"
    },
    "papermill": {
     "duration": 2.142204,
     "end_time": "2025-07-06T16:41:37.083746",
     "exception": false,
     "start_time": "2025-07-06T16:41:34.941542",
     "status": "completed"
    },
    "tags": []
   },
   "outputs": [
    {
     "name": "stdout",
     "output_type": "stream",
     "text": [
      "Downloading data from https://storage.googleapis.com/tensorflow/keras-applications/mobilenet_v2/mobilenet_v2_weights_tf_dim_ordering_tf_kernels_1.0_224_no_top.h5\n",
      "\u001b[1m9406464/9406464\u001b[0m \u001b[32m━━━━━━━━━━━━━━━━━━━━\u001b[0m\u001b[37m\u001b[0m \u001b[1m0s\u001b[0m 0us/step\n",
      "Successfully loaded weights from: /kaggle/input/mobilenet-v2-nih-full-dataset/initial_training_weights.weights.h5\n"
     ]
    },
    {
     "data": {
      "text/html": [
       "<pre style=\"white-space:pre;overflow-x:auto;line-height:normal;font-family:Menlo,'DejaVu Sans Mono',consolas,'Courier New',monospace\"><span style=\"font-weight: bold\">Model: \"functional_1\"</span>\n",
       "</pre>\n"
      ],
      "text/plain": [
       "\u001b[1mModel: \"functional_1\"\u001b[0m\n"
      ]
     },
     "metadata": {},
     "output_type": "display_data"
    },
    {
     "data": {
      "text/html": [
       "<pre style=\"white-space:pre;overflow-x:auto;line-height:normal;font-family:Menlo,'DejaVu Sans Mono',consolas,'Courier New',monospace\">┏━━━━━━━━━━━━━━━━━━━━━━━━━━━━━━━━━━━━━━┳━━━━━━━━━━━━━━━━━━━━━━━━━━━━━┳━━━━━━━━━━━━━━━━━┓\n",
       "┃<span style=\"font-weight: bold\"> Layer (type)                         </span>┃<span style=\"font-weight: bold\"> Output Shape                </span>┃<span style=\"font-weight: bold\">         Param # </span>┃\n",
       "┡━━━━━━━━━━━━━━━━━━━━━━━━━━━━━━━━━━━━━━╇━━━━━━━━━━━━━━━━━━━━━━━━━━━━━╇━━━━━━━━━━━━━━━━━┩\n",
       "│ input_layer_1 (<span style=\"color: #0087ff; text-decoration-color: #0087ff\">InputLayer</span>)           │ (<span style=\"color: #00d7ff; text-decoration-color: #00d7ff\">None</span>, <span style=\"color: #00af00; text-decoration-color: #00af00\">224</span>, <span style=\"color: #00af00; text-decoration-color: #00af00\">224</span>, <span style=\"color: #00af00; text-decoration-color: #00af00\">3</span>)         │               <span style=\"color: #00af00; text-decoration-color: #00af00\">0</span> │\n",
       "├──────────────────────────────────────┼─────────────────────────────┼─────────────────┤\n",
       "│ data_augmentation (<span style=\"color: #0087ff; text-decoration-color: #0087ff\">Sequential</span>)       │ (<span style=\"color: #00d7ff; text-decoration-color: #00d7ff\">None</span>, <span style=\"color: #00af00; text-decoration-color: #00af00\">224</span>, <span style=\"color: #00af00; text-decoration-color: #00af00\">224</span>, <span style=\"color: #00af00; text-decoration-color: #00af00\">3</span>)         │               <span style=\"color: #00af00; text-decoration-color: #00af00\">0</span> │\n",
       "├──────────────────────────────────────┼─────────────────────────────┼─────────────────┤\n",
       "│ mobilenetv2_1.00_224 (<span style=\"color: #0087ff; text-decoration-color: #0087ff\">Functional</span>)    │ (<span style=\"color: #00d7ff; text-decoration-color: #00d7ff\">None</span>, <span style=\"color: #00af00; text-decoration-color: #00af00\">7</span>, <span style=\"color: #00af00; text-decoration-color: #00af00\">7</span>, <span style=\"color: #00af00; text-decoration-color: #00af00\">1280</span>)          │       <span style=\"color: #00af00; text-decoration-color: #00af00\">2,257,984</span> │\n",
       "├──────────────────────────────────────┼─────────────────────────────┼─────────────────┤\n",
       "│ global_average_pooling2d             │ (<span style=\"color: #00d7ff; text-decoration-color: #00d7ff\">None</span>, <span style=\"color: #00af00; text-decoration-color: #00af00\">1280</span>)                │               <span style=\"color: #00af00; text-decoration-color: #00af00\">0</span> │\n",
       "│ (<span style=\"color: #0087ff; text-decoration-color: #0087ff\">GlobalAveragePooling2D</span>)             │                             │                 │\n",
       "├──────────────────────────────────────┼─────────────────────────────┼─────────────────┤\n",
       "│ dropout (<span style=\"color: #0087ff; text-decoration-color: #0087ff\">Dropout</span>)                    │ (<span style=\"color: #00d7ff; text-decoration-color: #00d7ff\">None</span>, <span style=\"color: #00af00; text-decoration-color: #00af00\">1280</span>)                │               <span style=\"color: #00af00; text-decoration-color: #00af00\">0</span> │\n",
       "├──────────────────────────────────────┼─────────────────────────────┼─────────────────┤\n",
       "│ dense (<span style=\"color: #0087ff; text-decoration-color: #0087ff\">Dense</span>)                        │ (<span style=\"color: #00d7ff; text-decoration-color: #00d7ff\">None</span>, <span style=\"color: #00af00; text-decoration-color: #00af00\">14</span>)                  │          <span style=\"color: #00af00; text-decoration-color: #00af00\">17,934</span> │\n",
       "└──────────────────────────────────────┴─────────────────────────────┴─────────────────┘\n",
       "</pre>\n"
      ],
      "text/plain": [
       "┏━━━━━━━━━━━━━━━━━━━━━━━━━━━━━━━━━━━━━━┳━━━━━━━━━━━━━━━━━━━━━━━━━━━━━┳━━━━━━━━━━━━━━━━━┓\n",
       "┃\u001b[1m \u001b[0m\u001b[1mLayer (type)                        \u001b[0m\u001b[1m \u001b[0m┃\u001b[1m \u001b[0m\u001b[1mOutput Shape               \u001b[0m\u001b[1m \u001b[0m┃\u001b[1m \u001b[0m\u001b[1m        Param #\u001b[0m\u001b[1m \u001b[0m┃\n",
       "┡━━━━━━━━━━━━━━━━━━━━━━━━━━━━━━━━━━━━━━╇━━━━━━━━━━━━━━━━━━━━━━━━━━━━━╇━━━━━━━━━━━━━━━━━┩\n",
       "│ input_layer_1 (\u001b[38;5;33mInputLayer\u001b[0m)           │ (\u001b[38;5;45mNone\u001b[0m, \u001b[38;5;34m224\u001b[0m, \u001b[38;5;34m224\u001b[0m, \u001b[38;5;34m3\u001b[0m)         │               \u001b[38;5;34m0\u001b[0m │\n",
       "├──────────────────────────────────────┼─────────────────────────────┼─────────────────┤\n",
       "│ data_augmentation (\u001b[38;5;33mSequential\u001b[0m)       │ (\u001b[38;5;45mNone\u001b[0m, \u001b[38;5;34m224\u001b[0m, \u001b[38;5;34m224\u001b[0m, \u001b[38;5;34m3\u001b[0m)         │               \u001b[38;5;34m0\u001b[0m │\n",
       "├──────────────────────────────────────┼─────────────────────────────┼─────────────────┤\n",
       "│ mobilenetv2_1.00_224 (\u001b[38;5;33mFunctional\u001b[0m)    │ (\u001b[38;5;45mNone\u001b[0m, \u001b[38;5;34m7\u001b[0m, \u001b[38;5;34m7\u001b[0m, \u001b[38;5;34m1280\u001b[0m)          │       \u001b[38;5;34m2,257,984\u001b[0m │\n",
       "├──────────────────────────────────────┼─────────────────────────────┼─────────────────┤\n",
       "│ global_average_pooling2d             │ (\u001b[38;5;45mNone\u001b[0m, \u001b[38;5;34m1280\u001b[0m)                │               \u001b[38;5;34m0\u001b[0m │\n",
       "│ (\u001b[38;5;33mGlobalAveragePooling2D\u001b[0m)             │                             │                 │\n",
       "├──────────────────────────────────────┼─────────────────────────────┼─────────────────┤\n",
       "│ dropout (\u001b[38;5;33mDropout\u001b[0m)                    │ (\u001b[38;5;45mNone\u001b[0m, \u001b[38;5;34m1280\u001b[0m)                │               \u001b[38;5;34m0\u001b[0m │\n",
       "├──────────────────────────────────────┼─────────────────────────────┼─────────────────┤\n",
       "│ dense (\u001b[38;5;33mDense\u001b[0m)                        │ (\u001b[38;5;45mNone\u001b[0m, \u001b[38;5;34m14\u001b[0m)                  │          \u001b[38;5;34m17,934\u001b[0m │\n",
       "└──────────────────────────────────────┴─────────────────────────────┴─────────────────┘\n"
      ]
     },
     "metadata": {},
     "output_type": "display_data"
    },
    {
     "data": {
      "text/html": [
       "<pre style=\"white-space:pre;overflow-x:auto;line-height:normal;font-family:Menlo,'DejaVu Sans Mono',consolas,'Courier New',monospace\"><span style=\"font-weight: bold\"> Total params: </span><span style=\"color: #00af00; text-decoration-color: #00af00\">2,275,918</span> (8.68 MB)\n",
       "</pre>\n"
      ],
      "text/plain": [
       "\u001b[1m Total params: \u001b[0m\u001b[38;5;34m2,275,918\u001b[0m (8.68 MB)\n"
      ]
     },
     "metadata": {},
     "output_type": "display_data"
    },
    {
     "data": {
      "text/html": [
       "<pre style=\"white-space:pre;overflow-x:auto;line-height:normal;font-family:Menlo,'DejaVu Sans Mono',consolas,'Courier New',monospace\"><span style=\"font-weight: bold\"> Trainable params: </span><span style=\"color: #00af00; text-decoration-color: #00af00\">17,934</span> (70.05 KB)\n",
       "</pre>\n"
      ],
      "text/plain": [
       "\u001b[1m Trainable params: \u001b[0m\u001b[38;5;34m17,934\u001b[0m (70.05 KB)\n"
      ]
     },
     "metadata": {},
     "output_type": "display_data"
    },
    {
     "data": {
      "text/html": [
       "<pre style=\"white-space:pre;overflow-x:auto;line-height:normal;font-family:Menlo,'DejaVu Sans Mono',consolas,'Courier New',monospace\"><span style=\"font-weight: bold\"> Non-trainable params: </span><span style=\"color: #00af00; text-decoration-color: #00af00\">2,257,984</span> (8.61 MB)\n",
       "</pre>\n"
      ],
      "text/plain": [
       "\u001b[1m Non-trainable params: \u001b[0m\u001b[38;5;34m2,257,984\u001b[0m (8.61 MB)\n"
      ]
     },
     "metadata": {},
     "output_type": "display_data"
    }
   ],
   "source": [
    "with strategy.scope():\n",
    "    base_model = tf.keras.applications.MobileNetV2(\n",
    "        input_shape=(IMAGE_SIZE, IMAGE_SIZE, 3),\n",
    "        include_top=False,\n",
    "        weights='imagenet'\n",
    "    )\n",
    "    base_model.trainable = False\n",
    "\n",
    "    inputs = tf.keras.layers.Input(shape=(IMAGE_SIZE, IMAGE_SIZE, 3))\n",
    "    x = data_augmentation_pipeline(inputs)\n",
    "    x = base_model(x, training=False)\n",
    "    x = tf.keras.layers.GlobalAveragePooling2D()(x)\n",
    "    x = tf.keras.layers.Dropout(0.3)(x)\n",
    "    outputs = tf.keras.layers.Dense(len(all_labels), activation='sigmoid')(x)\n",
    "    model = tf.keras.Model(inputs, outputs)\n",
    "\n",
    "    # Load the previously saved weights\n",
    "    try:\n",
    "        model.load_weights(WEIGHTS_FILE)\n",
    "        print(\"Successfully loaded weights from:\", WEIGHTS_FILE)\n",
    "    except Exception as e:\n",
    "        print(\"Could not load weights. Make sure the WEIGHTS_FILE path is correct.\", e)\n",
    "\n",
    "model.summary()"
   ]
  },
  {
   "cell_type": "code",
   "execution_count": 10,
   "id": "55bf5aed",
   "metadata": {
    "execution": {
     "iopub.execute_input": "2025-07-06T16:41:37.094015Z",
     "iopub.status.busy": "2025-07-06T16:41:37.093710Z",
     "iopub.status.idle": "2025-07-06T16:41:37.133685Z",
     "shell.execute_reply": "2025-07-06T16:41:37.132593Z"
    },
    "papermill": {
     "duration": 0.046833,
     "end_time": "2025-07-06T16:41:37.135285",
     "exception": false,
     "start_time": "2025-07-06T16:41:37.088452",
     "status": "completed"
    },
    "tags": []
   },
   "outputs": [
    {
     "name": "stdout",
     "output_type": "stream",
     "text": [
      "\n",
      "Unfrozen the top 77 layers of the base model for fine-tuning.\n"
     ]
    },
    {
     "data": {
      "text/html": [
       "<pre style=\"white-space:pre;overflow-x:auto;line-height:normal;font-family:Menlo,'DejaVu Sans Mono',consolas,'Courier New',monospace\"><span style=\"font-weight: bold\">Model: \"functional_1\"</span>\n",
       "</pre>\n"
      ],
      "text/plain": [
       "\u001b[1mModel: \"functional_1\"\u001b[0m\n"
      ]
     },
     "metadata": {},
     "output_type": "display_data"
    },
    {
     "data": {
      "text/html": [
       "<pre style=\"white-space:pre;overflow-x:auto;line-height:normal;font-family:Menlo,'DejaVu Sans Mono',consolas,'Courier New',monospace\">┏━━━━━━━━━━━━━━━━━━━━━━━━━━━━━━━━━━━━━━┳━━━━━━━━━━━━━━━━━━━━━━━━━━━━━┳━━━━━━━━━━━━━━━━━┓\n",
       "┃<span style=\"font-weight: bold\"> Layer (type)                         </span>┃<span style=\"font-weight: bold\"> Output Shape                </span>┃<span style=\"font-weight: bold\">         Param # </span>┃\n",
       "┡━━━━━━━━━━━━━━━━━━━━━━━━━━━━━━━━━━━━━━╇━━━━━━━━━━━━━━━━━━━━━━━━━━━━━╇━━━━━━━━━━━━━━━━━┩\n",
       "│ input_layer_1 (<span style=\"color: #0087ff; text-decoration-color: #0087ff\">InputLayer</span>)           │ (<span style=\"color: #00d7ff; text-decoration-color: #00d7ff\">None</span>, <span style=\"color: #00af00; text-decoration-color: #00af00\">224</span>, <span style=\"color: #00af00; text-decoration-color: #00af00\">224</span>, <span style=\"color: #00af00; text-decoration-color: #00af00\">3</span>)         │               <span style=\"color: #00af00; text-decoration-color: #00af00\">0</span> │\n",
       "├──────────────────────────────────────┼─────────────────────────────┼─────────────────┤\n",
       "│ data_augmentation (<span style=\"color: #0087ff; text-decoration-color: #0087ff\">Sequential</span>)       │ (<span style=\"color: #00d7ff; text-decoration-color: #00d7ff\">None</span>, <span style=\"color: #00af00; text-decoration-color: #00af00\">224</span>, <span style=\"color: #00af00; text-decoration-color: #00af00\">224</span>, <span style=\"color: #00af00; text-decoration-color: #00af00\">3</span>)         │               <span style=\"color: #00af00; text-decoration-color: #00af00\">0</span> │\n",
       "├──────────────────────────────────────┼─────────────────────────────┼─────────────────┤\n",
       "│ mobilenetv2_1.00_224 (<span style=\"color: #0087ff; text-decoration-color: #0087ff\">Functional</span>)    │ (<span style=\"color: #00d7ff; text-decoration-color: #00d7ff\">None</span>, <span style=\"color: #00af00; text-decoration-color: #00af00\">7</span>, <span style=\"color: #00af00; text-decoration-color: #00af00\">7</span>, <span style=\"color: #00af00; text-decoration-color: #00af00\">1280</span>)          │       <span style=\"color: #00af00; text-decoration-color: #00af00\">2,257,984</span> │\n",
       "├──────────────────────────────────────┼─────────────────────────────┼─────────────────┤\n",
       "│ global_average_pooling2d             │ (<span style=\"color: #00d7ff; text-decoration-color: #00d7ff\">None</span>, <span style=\"color: #00af00; text-decoration-color: #00af00\">1280</span>)                │               <span style=\"color: #00af00; text-decoration-color: #00af00\">0</span> │\n",
       "│ (<span style=\"color: #0087ff; text-decoration-color: #0087ff\">GlobalAveragePooling2D</span>)             │                             │                 │\n",
       "├──────────────────────────────────────┼─────────────────────────────┼─────────────────┤\n",
       "│ dropout (<span style=\"color: #0087ff; text-decoration-color: #0087ff\">Dropout</span>)                    │ (<span style=\"color: #00d7ff; text-decoration-color: #00d7ff\">None</span>, <span style=\"color: #00af00; text-decoration-color: #00af00\">1280</span>)                │               <span style=\"color: #00af00; text-decoration-color: #00af00\">0</span> │\n",
       "├──────────────────────────────────────┼─────────────────────────────┼─────────────────┤\n",
       "│ dense (<span style=\"color: #0087ff; text-decoration-color: #0087ff\">Dense</span>)                        │ (<span style=\"color: #00d7ff; text-decoration-color: #00d7ff\">None</span>, <span style=\"color: #00af00; text-decoration-color: #00af00\">14</span>)                  │          <span style=\"color: #00af00; text-decoration-color: #00af00\">17,934</span> │\n",
       "└──────────────────────────────────────┴─────────────────────────────┴─────────────────┘\n",
       "</pre>\n"
      ],
      "text/plain": [
       "┏━━━━━━━━━━━━━━━━━━━━━━━━━━━━━━━━━━━━━━┳━━━━━━━━━━━━━━━━━━━━━━━━━━━━━┳━━━━━━━━━━━━━━━━━┓\n",
       "┃\u001b[1m \u001b[0m\u001b[1mLayer (type)                        \u001b[0m\u001b[1m \u001b[0m┃\u001b[1m \u001b[0m\u001b[1mOutput Shape               \u001b[0m\u001b[1m \u001b[0m┃\u001b[1m \u001b[0m\u001b[1m        Param #\u001b[0m\u001b[1m \u001b[0m┃\n",
       "┡━━━━━━━━━━━━━━━━━━━━━━━━━━━━━━━━━━━━━━╇━━━━━━━━━━━━━━━━━━━━━━━━━━━━━╇━━━━━━━━━━━━━━━━━┩\n",
       "│ input_layer_1 (\u001b[38;5;33mInputLayer\u001b[0m)           │ (\u001b[38;5;45mNone\u001b[0m, \u001b[38;5;34m224\u001b[0m, \u001b[38;5;34m224\u001b[0m, \u001b[38;5;34m3\u001b[0m)         │               \u001b[38;5;34m0\u001b[0m │\n",
       "├──────────────────────────────────────┼─────────────────────────────┼─────────────────┤\n",
       "│ data_augmentation (\u001b[38;5;33mSequential\u001b[0m)       │ (\u001b[38;5;45mNone\u001b[0m, \u001b[38;5;34m224\u001b[0m, \u001b[38;5;34m224\u001b[0m, \u001b[38;5;34m3\u001b[0m)         │               \u001b[38;5;34m0\u001b[0m │\n",
       "├──────────────────────────────────────┼─────────────────────────────┼─────────────────┤\n",
       "│ mobilenetv2_1.00_224 (\u001b[38;5;33mFunctional\u001b[0m)    │ (\u001b[38;5;45mNone\u001b[0m, \u001b[38;5;34m7\u001b[0m, \u001b[38;5;34m7\u001b[0m, \u001b[38;5;34m1280\u001b[0m)          │       \u001b[38;5;34m2,257,984\u001b[0m │\n",
       "├──────────────────────────────────────┼─────────────────────────────┼─────────────────┤\n",
       "│ global_average_pooling2d             │ (\u001b[38;5;45mNone\u001b[0m, \u001b[38;5;34m1280\u001b[0m)                │               \u001b[38;5;34m0\u001b[0m │\n",
       "│ (\u001b[38;5;33mGlobalAveragePooling2D\u001b[0m)             │                             │                 │\n",
       "├──────────────────────────────────────┼─────────────────────────────┼─────────────────┤\n",
       "│ dropout (\u001b[38;5;33mDropout\u001b[0m)                    │ (\u001b[38;5;45mNone\u001b[0m, \u001b[38;5;34m1280\u001b[0m)                │               \u001b[38;5;34m0\u001b[0m │\n",
       "├──────────────────────────────────────┼─────────────────────────────┼─────────────────┤\n",
       "│ dense (\u001b[38;5;33mDense\u001b[0m)                        │ (\u001b[38;5;45mNone\u001b[0m, \u001b[38;5;34m14\u001b[0m)                  │          \u001b[38;5;34m17,934\u001b[0m │\n",
       "└──────────────────────────────────────┴─────────────────────────────┴─────────────────┘\n"
      ]
     },
     "metadata": {},
     "output_type": "display_data"
    },
    {
     "data": {
      "text/html": [
       "<pre style=\"white-space:pre;overflow-x:auto;line-height:normal;font-family:Menlo,'DejaVu Sans Mono',consolas,'Courier New',monospace\"><span style=\"font-weight: bold\"> Total params: </span><span style=\"color: #00af00; text-decoration-color: #00af00\">2,275,918</span> (8.68 MB)\n",
       "</pre>\n"
      ],
      "text/plain": [
       "\u001b[1m Total params: \u001b[0m\u001b[38;5;34m2,275,918\u001b[0m (8.68 MB)\n"
      ]
     },
     "metadata": {},
     "output_type": "display_data"
    },
    {
     "data": {
      "text/html": [
       "<pre style=\"white-space:pre;overflow-x:auto;line-height:normal;font-family:Menlo,'DejaVu Sans Mono',consolas,'Courier New',monospace\"><span style=\"font-weight: bold\"> Trainable params: </span><span style=\"color: #00af00; text-decoration-color: #00af00\">2,081,422</span> (7.94 MB)\n",
       "</pre>\n"
      ],
      "text/plain": [
       "\u001b[1m Trainable params: \u001b[0m\u001b[38;5;34m2,081,422\u001b[0m (7.94 MB)\n"
      ]
     },
     "metadata": {},
     "output_type": "display_data"
    },
    {
     "data": {
      "text/html": [
       "<pre style=\"white-space:pre;overflow-x:auto;line-height:normal;font-family:Menlo,'DejaVu Sans Mono',consolas,'Courier New',monospace\"><span style=\"font-weight: bold\"> Non-trainable params: </span><span style=\"color: #00af00; text-decoration-color: #00af00\">194,496</span> (759.75 KB)\n",
       "</pre>\n"
      ],
      "text/plain": [
       "\u001b[1m Non-trainable params: \u001b[0m\u001b[38;5;34m194,496\u001b[0m (759.75 KB)\n"
      ]
     },
     "metadata": {},
     "output_type": "display_data"
    }
   ],
   "source": [
    "base_model.trainable = True\n",
    "total_layers = len(base_model.layers)\n",
    "# Unfreeze the top 50% of the layers\n",
    "unfreeze_layers = int(total_layers * 0.50)\n",
    "\n",
    "for layer in base_model.layers[:-unfreeze_layers]:\n",
    "    layer.trainable = False\n",
    "\n",
    "with strategy.scope():\n",
    "    model.compile(\n",
    "        optimizer=tf.keras.optimizers.Adam(learning_rate=1e-4), # Use a lower learning rate for fine-tuning\n",
    "        loss=get_weighted_loss(weights),\n",
    "        metrics=[tf.keras.metrics.AUC(name='auc_roc', multi_label=True)]\n",
    "    )\n",
    "\n",
    "print(f\"\\nUnfrozen the top {unfreeze_layers} layers of the base model for fine-tuning.\")\n",
    "model.summary()"
   ]
  },
  {
   "cell_type": "code",
   "execution_count": 11,
   "id": "4a091a1b",
   "metadata": {
    "execution": {
     "iopub.execute_input": "2025-07-06T16:41:37.147005Z",
     "iopub.status.busy": "2025-07-06T16:41:37.146692Z",
     "iopub.status.idle": "2025-07-06T16:41:37.153910Z",
     "shell.execute_reply": "2025-07-06T16:41:37.153074Z"
    },
    "papermill": {
     "duration": 0.014597,
     "end_time": "2025-07-06T16:41:37.155471",
     "exception": false,
     "start_time": "2025-07-06T16:41:37.140874",
     "status": "completed"
    },
    "tags": []
   },
   "outputs": [],
   "source": [
    "from tensorflow.keras.callbacks import ModelCheckpoint\n",
    "checkpoint_weights_callback = ModelCheckpoint(\n",
    "    filepath='initial_fine_tuning_weights.weights.h5',\n",
    "    save_weights_only=True,\n",
    "    monitor='val_loss',\n",
    "    mode='min',\n",
    "    save_best_only=True,\n",
    "    verbose=1\n",
    ")"
   ]
  },
  {
   "cell_type": "code",
   "execution_count": 12,
   "id": "fd855731",
   "metadata": {
    "execution": {
     "iopub.execute_input": "2025-07-06T16:41:37.166699Z",
     "iopub.status.busy": "2025-07-06T16:41:37.166406Z",
     "iopub.status.idle": "2025-07-06T23:07:12.642777Z",
     "shell.execute_reply": "2025-07-06T23:07:12.640400Z"
    },
    "papermill": {
     "duration": 23135.484625,
     "end_time": "2025-07-06T23:07:12.645138",
     "exception": false,
     "start_time": "2025-07-06T16:41:37.160513",
     "status": "completed"
    },
    "tags": []
   },
   "outputs": [
    {
     "name": "stdout",
     "output_type": "stream",
     "text": [
      "\n",
      "Starting fine-tuning...\n",
      "Epoch 1/5\n",
      "\u001b[1m2521/2521\u001b[0m \u001b[32m━━━━━━━━━━━━━━━━━━━━\u001b[0m\u001b[37m\u001b[0m \u001b[1m0s\u001b[0m 2s/step - auc_roc: 0.5181 - loss: 0.8167\n",
      "Epoch 1: val_loss improved from inf to 0.73562, saving model to initial_fine_tuning_weights.weights.h5\n",
      "\u001b[1m2521/2521\u001b[0m \u001b[32m━━━━━━━━━━━━━━━━━━━━\u001b[0m\u001b[37m\u001b[0m \u001b[1m4739s\u001b[0m 2s/step - auc_roc: 0.5181 - loss: 0.8167 - val_auc_roc: 0.5357 - val_loss: 0.7356\n",
      "Epoch 2/5\n",
      "\u001b[1m2521/2521\u001b[0m \u001b[32m━━━━━━━━━━━━━━━━━━━━\u001b[0m\u001b[37m\u001b[0m \u001b[1m0s\u001b[0m 2s/step - auc_roc: 0.5284 - loss: 0.7039\n",
      "Epoch 2: val_loss improved from 0.73562 to 0.68859, saving model to initial_fine_tuning_weights.weights.h5\n",
      "\u001b[1m2521/2521\u001b[0m \u001b[32m━━━━━━━━━━━━━━━━━━━━\u001b[0m\u001b[37m\u001b[0m \u001b[1m4649s\u001b[0m 2s/step - auc_roc: 0.5284 - loss: 0.7039 - val_auc_roc: 0.5432 - val_loss: 0.6886\n",
      "Epoch 3/5\n",
      "\u001b[1m2521/2521\u001b[0m \u001b[32m━━━━━━━━━━━━━━━━━━━━\u001b[0m\u001b[37m\u001b[0m \u001b[1m0s\u001b[0m 2s/step - auc_roc: 0.5362 - loss: 0.7149\n",
      "Epoch 3: val_loss did not improve from 0.68859\n",
      "\u001b[1m2521/2521\u001b[0m \u001b[32m━━━━━━━━━━━━━━━━━━━━\u001b[0m\u001b[37m\u001b[0m \u001b[1m4596s\u001b[0m 2s/step - auc_roc: 0.5362 - loss: 0.7149 - val_auc_roc: 0.5020 - val_loss: 0.6901\n",
      "Epoch 4/5\n",
      "\u001b[1m2521/2521\u001b[0m \u001b[32m━━━━━━━━━━━━━━━━━━━━\u001b[0m\u001b[37m\u001b[0m \u001b[1m0s\u001b[0m 2s/step - auc_roc: 0.5452 - loss: 0.6966\n",
      "Epoch 4: val_loss improved from 0.68859 to 0.68713, saving model to initial_fine_tuning_weights.weights.h5\n",
      "\u001b[1m2521/2521\u001b[0m \u001b[32m━━━━━━━━━━━━━━━━━━━━\u001b[0m\u001b[37m\u001b[0m \u001b[1m4599s\u001b[0m 2s/step - auc_roc: 0.5452 - loss: 0.6966 - val_auc_roc: 0.5708 - val_loss: 0.6871\n",
      "Epoch 5/5\n",
      "\u001b[1m2521/2521\u001b[0m \u001b[32m━━━━━━━━━━━━━━━━━━━━\u001b[0m\u001b[37m\u001b[0m \u001b[1m0s\u001b[0m 2s/step - auc_roc: 0.5465 - loss: 0.6976\n",
      "Epoch 5: val_loss improved from 0.68713 to 0.68280, saving model to initial_fine_tuning_weights.weights.h5\n",
      "\u001b[1m2521/2521\u001b[0m \u001b[32m━━━━━━━━━━━━━━━━━━━━\u001b[0m\u001b[37m\u001b[0m \u001b[1m4538s\u001b[0m 2s/step - auc_roc: 0.5465 - loss: 0.6976 - val_auc_roc: 0.5814 - val_loss: 0.6828\n",
      "Fine-tuning complete.\n"
     ]
    }
   ],
   "source": [
    "print(\"\\nStarting fine-tuning...\")\n",
    "history = model.fit(\n",
    "    train_ds,\n",
    "    epochs=5,\n",
    "    validation_data=val_ds,\n",
    "    callbacks=[checkpoint_weights_callback] \n",
    ")\n",
    "print(\"Fine-tuning complete.\")"
   ]
  },
  {
   "cell_type": "code",
   "execution_count": null,
   "id": "48eb48f6",
   "metadata": {
    "papermill": {
     "duration": 0.722155,
     "end_time": "2025-07-06T23:07:14.191690",
     "exception": false,
     "start_time": "2025-07-06T23:07:13.469535",
     "status": "completed"
    },
    "tags": []
   },
   "outputs": [],
   "source": []
  },
  {
   "cell_type": "code",
   "execution_count": null,
   "id": "9a63dfa8",
   "metadata": {
    "papermill": {
     "duration": 0.678417,
     "end_time": "2025-07-06T23:07:15.530097",
     "exception": false,
     "start_time": "2025-07-06T23:07:14.851680",
     "status": "completed"
    },
    "tags": []
   },
   "outputs": [],
   "source": []
  }
 ],
 "metadata": {
  "kaggle": {
   "accelerator": "none",
   "dataSources": [
    {
     "datasetId": 5839,
     "sourceId": 18613,
     "sourceType": "datasetVersion"
    },
    {
     "sourceId": 248594313,
     "sourceType": "kernelVersion"
    }
   ],
   "dockerImageVersionId": 31040,
   "isGpuEnabled": false,
   "isInternetEnabled": true,
   "language": "python",
   "sourceType": "notebook"
  },
  "kernelspec": {
   "display_name": "Python 3",
   "language": "python",
   "name": "python3"
  },
  "language_info": {
   "codemirror_mode": {
    "name": "ipython",
    "version": 3
   },
   "file_extension": ".py",
   "mimetype": "text/x-python",
   "name": "python",
   "nbconvert_exporter": "python",
   "pygments_lexer": "ipython3",
   "version": "3.11.11"
  },
  "papermill": {
   "default_parameters": {},
   "duration": 23303.990886,
   "end_time": "2025-07-06T23:07:20.313546",
   "environment_variables": {},
   "exception": null,
   "input_path": "__notebook__.ipynb",
   "output_path": "__notebook__.ipynb",
   "parameters": {},
   "start_time": "2025-07-06T16:38:56.322660",
   "version": "2.6.0"
  }
 },
 "nbformat": 4,
 "nbformat_minor": 5
}
