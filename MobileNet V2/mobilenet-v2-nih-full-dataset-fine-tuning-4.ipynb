{
 "cells": [
  {
   "cell_type": "code",
   "execution_count": 1,
   "id": "a57cc26b",
   "metadata": {
    "_cell_guid": "b1076dfc-b9ad-4769-8c92-a6c4dae69d19",
    "_uuid": "8f2839f25d086af736a60e9eeb907d3b93b6e0e5",
    "execution": {
     "iopub.execute_input": "2025-07-08T14:37:15.671488Z",
     "iopub.status.busy": "2025-07-08T14:37:15.671147Z",
     "iopub.status.idle": "2025-07-08T14:37:37.224793Z",
     "shell.execute_reply": "2025-07-08T14:37:37.223798Z"
    },
    "papermill": {
     "duration": 21.560836,
     "end_time": "2025-07-08T14:37:37.226853",
     "exception": false,
     "start_time": "2025-07-08T14:37:15.666017",
     "status": "completed"
    },
    "tags": []
   },
   "outputs": [
    {
     "name": "stderr",
     "output_type": "stream",
     "text": [
      "2025-07-08 14:37:19.717980: E external/local_xla/xla/stream_executor/cuda/cuda_fft.cc:477] Unable to register cuFFT factory: Attempting to register factory for plugin cuFFT when one has already been registered\n",
      "WARNING: All log messages before absl::InitializeLog() is called are written to STDERR\n",
      "E0000 00:00:1751985439.984512      13 cuda_dnn.cc:8310] Unable to register cuDNN factory: Attempting to register factory for plugin cuDNN when one has already been registered\n",
      "E0000 00:00:1751985440.059946      13 cuda_blas.cc:1418] Unable to register cuBLAS factory: Attempting to register factory for plugin cuBLAS when one has already been registered\n"
     ]
    }
   ],
   "source": [
    "import os\n",
    "import glob\n",
    "import numpy as np\n",
    "import pandas as pd\n",
    "import tensorflow as tf\n",
    "from tensorflow import keras\n",
    "from tensorflow.keras import layers\n",
    "from tensorflow.keras import backend as K\n",
    "from tensorflow.keras.callbacks import ModelCheckpoint, ReduceLROnPlateau, EarlyStopping\n",
    "from sklearn.model_selection import train_test_split"
   ]
  },
  {
   "cell_type": "code",
   "execution_count": 2,
   "id": "3f452f48",
   "metadata": {
    "execution": {
     "iopub.execute_input": "2025-07-08T14:37:37.235492Z",
     "iopub.status.busy": "2025-07-08T14:37:37.234746Z",
     "iopub.status.idle": "2025-07-08T14:37:37.240277Z",
     "shell.execute_reply": "2025-07-08T14:37:37.239405Z"
    },
    "papermill": {
     "duration": 0.011244,
     "end_time": "2025-07-08T14:37:37.241952",
     "exception": false,
     "start_time": "2025-07-08T14:37:37.230708",
     "status": "completed"
    },
    "tags": []
   },
   "outputs": [],
   "source": [
    "IMAGE_SIZE = 224\n",
    "BATCH_SIZE_PER_REPLICA = 32\n",
    "SEED = 42\n",
    "DATA_DIR = '/kaggle/input/data' \n",
    "PREVIOUS_MODEL_FILE = '/kaggle/input/mobile-net-v2-nih-full-dataset-fine-tuning-3/best_chest_xray_model_finetuned.keras' \n",
    "NEW_MODEL_FILE = 'best_chest_xray_model_finetuned4.keras'\n",
    "NEW_WEIGHTS_FILE = 'best_chest_xray_weights_finetuned4.weights.h5'"
   ]
  },
  {
   "cell_type": "code",
   "execution_count": 3,
   "id": "24c83a45",
   "metadata": {
    "execution": {
     "iopub.execute_input": "2025-07-08T14:37:37.249437Z",
     "iopub.status.busy": "2025-07-08T14:37:37.249098Z",
     "iopub.status.idle": "2025-07-08T14:37:37.294312Z",
     "shell.execute_reply": "2025-07-08T14:37:37.293042Z"
    },
    "papermill": {
     "duration": 0.050935,
     "end_time": "2025-07-08T14:37:37.296016",
     "exception": false,
     "start_time": "2025-07-08T14:37:37.245081",
     "status": "completed"
    },
    "tags": []
   },
   "outputs": [
    {
     "name": "stdout",
     "output_type": "stream",
     "text": [
      "Running on GPU/CPU\n",
      "Number of replicas: 1\n"
     ]
    },
    {
     "name": "stderr",
     "output_type": "stream",
     "text": [
      "2025-07-08 14:37:37.253996: E external/local_xla/xla/stream_executor/cuda/cuda_driver.cc:152] failed call to cuInit: INTERNAL: CUDA error: Failed call to cuInit: UNKNOWN ERROR (303)\n"
     ]
    }
   ],
   "source": [
    "try:\n",
    "    tpu = tf.distribute.cluster_resolver.TPUClusterResolver.connect()\n",
    "    strategy = tf.distribute.TPUStrategy(tpu)\n",
    "    print(\"Running on TPU\")\n",
    "except ValueError:\n",
    "    strategy = tf.distribute.MirroredStrategy()\n",
    "    print(\"Running on GPU/CPU\")\n",
    "\n",
    "REPLICAS = strategy.num_replicas_in_sync\n",
    "BATCH_SIZE = BATCH_SIZE_PER_REPLICA * REPLICAS\n",
    "print(f\"Number of replicas: {REPLICAS}\")\n"
   ]
  },
  {
   "cell_type": "code",
   "execution_count": 4,
   "id": "582437ae",
   "metadata": {
    "execution": {
     "iopub.execute_input": "2025-07-08T14:37:37.304196Z",
     "iopub.status.busy": "2025-07-08T14:37:37.303851Z",
     "iopub.status.idle": "2025-07-08T14:40:03.275144Z",
     "shell.execute_reply": "2025-07-08T14:40:03.273979Z"
    },
    "papermill": {
     "duration": 145.977746,
     "end_time": "2025-07-08T14:40:03.277222",
     "exception": false,
     "start_time": "2025-07-08T14:37:37.299476",
     "status": "completed"
    },
    "tags": []
   },
   "outputs": [],
   "source": [
    "df = pd.read_csv(os.path.join(DATA_DIR, 'Data_Entry_2017.csv'))\n",
    "all_image_paths = {os.path.basename(p): p for p in glob.glob(os.path.join(DATA_DIR, '**', '*.png'), recursive=True)}\n",
    "df['path'] = df['Image Index'].map(all_image_paths.get)\n",
    "df = df.dropna(subset=['path'])\n"
   ]
  },
  {
   "cell_type": "code",
   "execution_count": 5,
   "id": "3c99b4c2",
   "metadata": {
    "execution": {
     "iopub.execute_input": "2025-07-08T14:40:03.285534Z",
     "iopub.status.busy": "2025-07-08T14:40:03.285162Z",
     "iopub.status.idle": "2025-07-08T14:40:03.645791Z",
     "shell.execute_reply": "2025-07-08T14:40:03.644599Z"
    },
    "papermill": {
     "duration": 0.366671,
     "end_time": "2025-07-08T14:40:03.647540",
     "exception": false,
     "start_time": "2025-07-08T14:40:03.280869",
     "status": "completed"
    },
    "tags": []
   },
   "outputs": [],
   "source": [
    "all_labels = sorted(['Atelectasis', 'Cardiomegaly', 'Consolidation', 'Edema', 'Effusion', 'Emphysema', 'Fibrosis', 'Hernia', 'Infiltration', 'Mass', 'Nodule', 'Pleural_Thickening', 'Pneumonia', 'Pneumothorax'])\n",
    "for label in all_labels:\n",
    "    df[label] = df['Finding Labels'].map(lambda finding: 1.0 if label in finding else 0.0)"
   ]
  },
  {
   "cell_type": "code",
   "execution_count": 6,
   "id": "dcf7082f",
   "metadata": {
    "execution": {
     "iopub.execute_input": "2025-07-08T14:40:03.655910Z",
     "iopub.status.busy": "2025-07-08T14:40:03.655536Z",
     "iopub.status.idle": "2025-07-08T14:40:03.722601Z",
     "shell.execute_reply": "2025-07-08T14:40:03.720993Z"
    },
    "papermill": {
     "duration": 0.073552,
     "end_time": "2025-07-08T14:40:03.724664",
     "exception": false,
     "start_time": "2025-07-08T14:40:03.651112",
     "status": "completed"
    },
    "tags": []
   },
   "outputs": [],
   "source": [
    "patient_ids = df['Patient ID'].unique()\n",
    "train_val_ids, test_ids = train_test_split(patient_ids, test_size=0.2, random_state=SEED)\n",
    "train_ids, val_ids = train_test_split(train_val_ids, test_size=0.1, random_state=SEED)\n",
    "\n",
    "train_df = df[df['Patient ID'].isin(train_ids)]\n",
    "val_df = df[df['Patient ID'].isin(val_ids)]\n",
    "test_df = df[df['Patient ID'].isin(test_ids)]\n"
   ]
  },
  {
   "cell_type": "code",
   "execution_count": 7,
   "id": "85d5d2d3",
   "metadata": {
    "execution": {
     "iopub.execute_input": "2025-07-08T14:40:03.734039Z",
     "iopub.status.busy": "2025-07-08T14:40:03.733665Z",
     "iopub.status.idle": "2025-07-08T14:40:03.762162Z",
     "shell.execute_reply": "2025-07-08T14:40:03.760646Z"
    },
    "papermill": {
     "duration": 0.036029,
     "end_time": "2025-07-08T14:40:03.764506",
     "exception": false,
     "start_time": "2025-07-08T14:40:03.728477",
     "status": "completed"
    },
    "tags": []
   },
   "outputs": [
    {
     "name": "stdout",
     "output_type": "stream",
     "text": [
      "Data preparation complete.\n"
     ]
    }
   ],
   "source": [
    "pos_counts = train_df[all_labels].sum()\n",
    "neg_counts = len(train_df) - pos_counts\n",
    "weights = np.zeros((len(all_labels), 2))\n",
    "total_samples = len(train_df)\n",
    "for i, label in enumerate(all_labels):\n",
    "    pos_weight = (1 / pos_counts[label]) * (total_samples / 2.0)\n",
    "    neg_weight = (1 / neg_counts[label]) * (total_samples / 2.0)\n",
    "    weights[i, 1] = pos_weight\n",
    "    weights[i, 0] = neg_weight\n",
    "\n",
    "print(\"Data preparation complete.\")"
   ]
  },
  {
   "cell_type": "code",
   "execution_count": 8,
   "id": "b933855c",
   "metadata": {
    "execution": {
     "iopub.execute_input": "2025-07-08T14:40:03.774652Z",
     "iopub.status.busy": "2025-07-08T14:40:03.773232Z",
     "iopub.status.idle": "2025-07-08T14:40:04.326138Z",
     "shell.execute_reply": "2025-07-08T14:40:04.324810Z"
    },
    "papermill": {
     "duration": 0.559976,
     "end_time": "2025-07-08T14:40:04.328240",
     "exception": false,
     "start_time": "2025-07-08T14:40:03.768264",
     "status": "completed"
    },
    "tags": []
   },
   "outputs": [
    {
     "name": "stdout",
     "output_type": "stream",
     "text": [
      "Datasets created.\n"
     ]
    }
   ],
   "source": [
    "# Function to parse and decode images\n",
    "def parse_image(path, label):\n",
    "    image = tf.io.read_file(path)\n",
    "    image = tf.image.decode_png(image, channels=3)\n",
    "    image = tf.image.convert_image_dtype(image, tf.float32)\n",
    "    image = tf.image.resize(image, size=[IMAGE_SIZE, IMAGE_SIZE])\n",
    "    return image, label\n",
    "\n",
    "# Data augmentation pipeline\n",
    "data_augmentation_pipeline = keras.Sequential([\n",
    "    layers.RandomFlip(\"horizontal\"),\n",
    "    layers.RandomRotation(0.1),\n",
    "    layers.RandomZoom(0.1),\n",
    "], name=\"data_augmentation\")\n",
    "\n",
    "# Function to create a tf.data.Dataset\n",
    "def create_dataset(df, augment=False):\n",
    "    dataset = tf.data.Dataset.from_tensor_slices((df['path'].values, df[all_labels].values))\n",
    "    AUTOTUNE = tf.data.AUTOTUNE\n",
    "    dataset = dataset.map(parse_image, num_parallel_calls=AUTOTUNE)\n",
    "    if augment:\n",
    "        dataset = dataset.map(lambda x, y: (data_augmentation_pipeline(x, training=True), y), num_parallel_calls=AUTOTUNE)\n",
    "    dataset = dataset.shuffle(buffer_size=2048).batch(BATCH_SIZE).prefetch(buffer_size=AUTOTUNE)\n",
    "    return dataset\n",
    "\n",
    "train_ds = create_dataset(train_df, augment=True)\n",
    "val_ds = create_dataset(val_df)\n",
    "test_ds = create_dataset(test_df)\n",
    "\n",
    "print(\"Datasets created.\")\n"
   ]
  },
  {
   "cell_type": "code",
   "execution_count": 9,
   "id": "61dc064b",
   "metadata": {
    "execution": {
     "iopub.execute_input": "2025-07-08T14:40:04.337070Z",
     "iopub.status.busy": "2025-07-08T14:40:04.336608Z",
     "iopub.status.idle": "2025-07-08T14:40:07.512477Z",
     "shell.execute_reply": "2025-07-08T14:40:07.511459Z"
    },
    "papermill": {
     "duration": 3.182605,
     "end_time": "2025-07-08T14:40:07.514282",
     "exception": false,
     "start_time": "2025-07-08T14:40:04.331677",
     "status": "completed"
    },
    "tags": []
   },
   "outputs": [
    {
     "name": "stdout",
     "output_type": "stream",
     "text": [
      "Previously trained model loaded successfully.\n"
     ]
    }
   ],
   "source": [
    "def get_weighted_loss(weights):\n",
    "    weights = tf.constant(weights, dtype=tf.float32)\n",
    "    def weighted_loss(y_true, y_pred):\n",
    "        y_true = tf.cast(y_true, tf.float32)\n",
    "        bce = K.binary_crossentropy(y_true, y_pred)\n",
    "        loss_weights = (weights[:, 1] * y_true) + (weights[:, 0] * (1 - y_true))\n",
    "        weighted_bce = loss_weights * bce\n",
    "        return K.mean(weighted_bce)\n",
    "    return weighted_loss\n",
    "\n",
    "with strategy.scope():\n",
    "    # Load the previously saved model\n",
    "    model = tf.keras.models.load_model(\n",
    "        PREVIOUS_MODEL_FILE,\n",
    "        custom_objects={'weighted_loss': get_weighted_loss(weights)}\n",
    "    )\n",
    "    print(\"Previously trained model loaded successfully.\")\n"
   ]
  },
  {
   "cell_type": "code",
   "execution_count": 10,
   "id": "3e916f21",
   "metadata": {
    "execution": {
     "iopub.execute_input": "2025-07-08T14:40:07.522436Z",
     "iopub.status.busy": "2025-07-08T14:40:07.522080Z",
     "iopub.status.idle": "2025-07-08T14:40:07.529214Z",
     "shell.execute_reply": "2025-07-08T14:40:07.527928Z"
    },
    "papermill": {
     "duration": 0.0139,
     "end_time": "2025-07-08T14:40:07.531723",
     "exception": false,
     "start_time": "2025-07-08T14:40:07.517823",
     "status": "completed"
    },
    "tags": []
   },
   "outputs": [
    {
     "name": "stdout",
     "output_type": "stream",
     "text": [
      "Unfreezing layers from index 0 onwards.\n"
     ]
    }
   ],
   "source": [
    "base_model = model.layers[1]\n",
    "base_model.trainable = True\n",
    "    \n",
    "# Unfreeze the top 90% of layers\n",
    "total_layers = len(base_model.layers)\n",
    "unfreeze_at = int(total_layers * 0.05) # Freeze only the first 5%\n",
    "for layer in base_model.layers[:unfreeze_at]:\n",
    "    layer.trainable = False\n",
    "\n",
    "print(f\"Unfreezing layers from index {unfreeze_at} onwards.\")\n"
   ]
  },
  {
   "cell_type": "code",
   "execution_count": 11,
   "id": "d076efa5",
   "metadata": {
    "execution": {
     "iopub.execute_input": "2025-07-08T14:40:07.547724Z",
     "iopub.status.busy": "2025-07-08T14:40:07.546937Z",
     "iopub.status.idle": "2025-07-08T14:40:07.584677Z",
     "shell.execute_reply": "2025-07-08T14:40:07.583399Z"
    },
    "papermill": {
     "duration": 0.046974,
     "end_time": "2025-07-08T14:40:07.586867",
     "exception": false,
     "start_time": "2025-07-08T14:40:07.539893",
     "status": "completed"
    },
    "tags": []
   },
   "outputs": [
    {
     "name": "stdout",
     "output_type": "stream",
     "text": [
      " Model re-compiled with a slower learning rate for fine-tuning.\n"
     ]
    },
    {
     "data": {
      "text/html": [
       "<pre style=\"white-space:pre;overflow-x:auto;line-height:normal;font-family:Menlo,'DejaVu Sans Mono',consolas,'Courier New',monospace\"><span style=\"font-weight: bold\">Model: \"functional_2\"</span>\n",
       "</pre>\n"
      ],
      "text/plain": [
       "\u001b[1mModel: \"functional_2\"\u001b[0m\n"
      ]
     },
     "metadata": {},
     "output_type": "display_data"
    },
    {
     "data": {
      "text/html": [
       "<pre style=\"white-space:pre;overflow-x:auto;line-height:normal;font-family:Menlo,'DejaVu Sans Mono',consolas,'Courier New',monospace\">┏━━━━━━━━━━━━━━━━━━━━━━━━━━━━━━━━━┳━━━━━━━━━━━━━━━━━━━━━━━━┳━━━━━━━━━━━━━━━┓\n",
       "┃<span style=\"font-weight: bold\"> Layer (type)                    </span>┃<span style=\"font-weight: bold\"> Output Shape           </span>┃<span style=\"font-weight: bold\">       Param # </span>┃\n",
       "┡━━━━━━━━━━━━━━━━━━━━━━━━━━━━━━━━━╇━━━━━━━━━━━━━━━━━━━━━━━━╇━━━━━━━━━━━━━━━┩\n",
       "│ input_layer_2 (<span style=\"color: #0087ff; text-decoration-color: #0087ff\">InputLayer</span>)      │ (<span style=\"color: #00d7ff; text-decoration-color: #00d7ff\">None</span>, <span style=\"color: #00af00; text-decoration-color: #00af00\">224</span>, <span style=\"color: #00af00; text-decoration-color: #00af00\">224</span>, <span style=\"color: #00af00; text-decoration-color: #00af00\">3</span>)    │             <span style=\"color: #00af00; text-decoration-color: #00af00\">0</span> │\n",
       "├─────────────────────────────────┼────────────────────────┼───────────────┤\n",
       "│ data_augmentation (<span style=\"color: #0087ff; text-decoration-color: #0087ff\">Sequential</span>)  │ (<span style=\"color: #00d7ff; text-decoration-color: #00d7ff\">None</span>, <span style=\"color: #00af00; text-decoration-color: #00af00\">224</span>, <span style=\"color: #00af00; text-decoration-color: #00af00\">224</span>, <span style=\"color: #00af00; text-decoration-color: #00af00\">3</span>)    │             <span style=\"color: #00af00; text-decoration-color: #00af00\">0</span> │\n",
       "├─────────────────────────────────┼────────────────────────┼───────────────┤\n",
       "│ mobilenetv2_1.00_224            │ (<span style=\"color: #00d7ff; text-decoration-color: #00d7ff\">None</span>, <span style=\"color: #00af00; text-decoration-color: #00af00\">7</span>, <span style=\"color: #00af00; text-decoration-color: #00af00\">7</span>, <span style=\"color: #00af00; text-decoration-color: #00af00\">1280</span>)     │     <span style=\"color: #00af00; text-decoration-color: #00af00\">2,257,984</span> │\n",
       "│ (<span style=\"color: #0087ff; text-decoration-color: #0087ff\">Functional</span>)                    │                        │               │\n",
       "├─────────────────────────────────┼────────────────────────┼───────────────┤\n",
       "│ global_average_pooling2d        │ (<span style=\"color: #00d7ff; text-decoration-color: #00d7ff\">None</span>, <span style=\"color: #00af00; text-decoration-color: #00af00\">1280</span>)           │             <span style=\"color: #00af00; text-decoration-color: #00af00\">0</span> │\n",
       "│ (<span style=\"color: #0087ff; text-decoration-color: #0087ff\">GlobalAveragePooling2D</span>)        │                        │               │\n",
       "├─────────────────────────────────┼────────────────────────┼───────────────┤\n",
       "│ dropout (<span style=\"color: #0087ff; text-decoration-color: #0087ff\">Dropout</span>)               │ (<span style=\"color: #00d7ff; text-decoration-color: #00d7ff\">None</span>, <span style=\"color: #00af00; text-decoration-color: #00af00\">1280</span>)           │             <span style=\"color: #00af00; text-decoration-color: #00af00\">0</span> │\n",
       "├─────────────────────────────────┼────────────────────────┼───────────────┤\n",
       "│ dense (<span style=\"color: #0087ff; text-decoration-color: #0087ff\">Dense</span>)                   │ (<span style=\"color: #00d7ff; text-decoration-color: #00d7ff\">None</span>, <span style=\"color: #00af00; text-decoration-color: #00af00\">14</span>)             │        <span style=\"color: #00af00; text-decoration-color: #00af00\">17,934</span> │\n",
       "└─────────────────────────────────┴────────────────────────┴───────────────┘\n",
       "</pre>\n"
      ],
      "text/plain": [
       "┏━━━━━━━━━━━━━━━━━━━━━━━━━━━━━━━━━┳━━━━━━━━━━━━━━━━━━━━━━━━┳━━━━━━━━━━━━━━━┓\n",
       "┃\u001b[1m \u001b[0m\u001b[1mLayer (type)                   \u001b[0m\u001b[1m \u001b[0m┃\u001b[1m \u001b[0m\u001b[1mOutput Shape          \u001b[0m\u001b[1m \u001b[0m┃\u001b[1m \u001b[0m\u001b[1m      Param #\u001b[0m\u001b[1m \u001b[0m┃\n",
       "┡━━━━━━━━━━━━━━━━━━━━━━━━━━━━━━━━━╇━━━━━━━━━━━━━━━━━━━━━━━━╇━━━━━━━━━━━━━━━┩\n",
       "│ input_layer_2 (\u001b[38;5;33mInputLayer\u001b[0m)      │ (\u001b[38;5;45mNone\u001b[0m, \u001b[38;5;34m224\u001b[0m, \u001b[38;5;34m224\u001b[0m, \u001b[38;5;34m3\u001b[0m)    │             \u001b[38;5;34m0\u001b[0m │\n",
       "├─────────────────────────────────┼────────────────────────┼───────────────┤\n",
       "│ data_augmentation (\u001b[38;5;33mSequential\u001b[0m)  │ (\u001b[38;5;45mNone\u001b[0m, \u001b[38;5;34m224\u001b[0m, \u001b[38;5;34m224\u001b[0m, \u001b[38;5;34m3\u001b[0m)    │             \u001b[38;5;34m0\u001b[0m │\n",
       "├─────────────────────────────────┼────────────────────────┼───────────────┤\n",
       "│ mobilenetv2_1.00_224            │ (\u001b[38;5;45mNone\u001b[0m, \u001b[38;5;34m7\u001b[0m, \u001b[38;5;34m7\u001b[0m, \u001b[38;5;34m1280\u001b[0m)     │     \u001b[38;5;34m2,257,984\u001b[0m │\n",
       "│ (\u001b[38;5;33mFunctional\u001b[0m)                    │                        │               │\n",
       "├─────────────────────────────────┼────────────────────────┼───────────────┤\n",
       "│ global_average_pooling2d        │ (\u001b[38;5;45mNone\u001b[0m, \u001b[38;5;34m1280\u001b[0m)           │             \u001b[38;5;34m0\u001b[0m │\n",
       "│ (\u001b[38;5;33mGlobalAveragePooling2D\u001b[0m)        │                        │               │\n",
       "├─────────────────────────────────┼────────────────────────┼───────────────┤\n",
       "│ dropout (\u001b[38;5;33mDropout\u001b[0m)               │ (\u001b[38;5;45mNone\u001b[0m, \u001b[38;5;34m1280\u001b[0m)           │             \u001b[38;5;34m0\u001b[0m │\n",
       "├─────────────────────────────────┼────────────────────────┼───────────────┤\n",
       "│ dense (\u001b[38;5;33mDense\u001b[0m)                   │ (\u001b[38;5;45mNone\u001b[0m, \u001b[38;5;34m14\u001b[0m)             │        \u001b[38;5;34m17,934\u001b[0m │\n",
       "└─────────────────────────────────┴────────────────────────┴───────────────┘\n"
      ]
     },
     "metadata": {},
     "output_type": "display_data"
    },
    {
     "data": {
      "text/html": [
       "<pre style=\"white-space:pre;overflow-x:auto;line-height:normal;font-family:Menlo,'DejaVu Sans Mono',consolas,'Courier New',monospace\"><span style=\"font-weight: bold\"> Total params: </span><span style=\"color: #00af00; text-decoration-color: #00af00\">2,275,918</span> (8.68 MB)\n",
       "</pre>\n"
      ],
      "text/plain": [
       "\u001b[1m Total params: \u001b[0m\u001b[38;5;34m2,275,918\u001b[0m (8.68 MB)\n"
      ]
     },
     "metadata": {},
     "output_type": "display_data"
    },
    {
     "data": {
      "text/html": [
       "<pre style=\"white-space:pre;overflow-x:auto;line-height:normal;font-family:Menlo,'DejaVu Sans Mono',consolas,'Courier New',monospace\"><span style=\"font-weight: bold\"> Trainable params: </span><span style=\"color: #00af00; text-decoration-color: #00af00\">2,209,486</span> (8.43 MB)\n",
       "</pre>\n"
      ],
      "text/plain": [
       "\u001b[1m Trainable params: \u001b[0m\u001b[38;5;34m2,209,486\u001b[0m (8.43 MB)\n"
      ]
     },
     "metadata": {},
     "output_type": "display_data"
    },
    {
     "data": {
      "text/html": [
       "<pre style=\"white-space:pre;overflow-x:auto;line-height:normal;font-family:Menlo,'DejaVu Sans Mono',consolas,'Courier New',monospace\"><span style=\"font-weight: bold\"> Non-trainable params: </span><span style=\"color: #00af00; text-decoration-color: #00af00\">66,432</span> (259.50 KB)\n",
       "</pre>\n"
      ],
      "text/plain": [
       "\u001b[1m Non-trainable params: \u001b[0m\u001b[38;5;34m66,432\u001b[0m (259.50 KB)\n"
      ]
     },
     "metadata": {},
     "output_type": "display_data"
    }
   ],
   "source": [
    "model.compile(\n",
    "        optimizer=tf.keras.optimizers.AdamW(learning_rate=1e-6, weight_decay=1e-7), # Slower learning rate\n",
    "        loss=get_weighted_loss(weights),\n",
    "        metrics=[tf.keras.metrics.AUC(name='auc_roc', multi_label=True)]\n",
    "    )\n",
    "print(\" Model re-compiled with a slower learning rate for fine-tuning.\")\n",
    "model.summary()\n"
   ]
  },
  {
   "cell_type": "code",
   "execution_count": 12,
   "id": "ab8f9593",
   "metadata": {
    "execution": {
     "iopub.execute_input": "2025-07-08T14:40:07.599470Z",
     "iopub.status.busy": "2025-07-08T14:40:07.598136Z",
     "iopub.status.idle": "2025-07-08T22:34:42.021198Z",
     "shell.execute_reply": "2025-07-08T22:34:42.019780Z"
    },
    "papermill": {
     "duration": 28474.431257,
     "end_time": "2025-07-08T22:34:42.023457",
     "exception": false,
     "start_time": "2025-07-08T14:40:07.592200",
     "status": "completed"
    },
    "tags": []
   },
   "outputs": [
    {
     "name": "stdout",
     "output_type": "stream",
     "text": [
      "Previously trained model loaded successfully.\n",
      "Unfreezing layers from index 0 onwards.\n",
      " Model re-compiled for fine-tuning.\n",
      "Starting further fine-tuning...\n",
      "Epoch 1/5\n",
      "\u001b[1m2521/2521\u001b[0m \u001b[32m━━━━━━━━━━━━━━━━━━━━\u001b[0m\u001b[37m\u001b[0m \u001b[1m0s\u001b[0m 2s/step - auc_roc: 0.7082 - loss: 0.6144\n",
      "Epoch 1: val_auc_roc improved from -inf to 0.71679, saving model to best_chest_xray_model_finetuned4.keras\n",
      "\u001b[1m2521/2521\u001b[0m \u001b[32m━━━━━━━━━━━━━━━━━━━━\u001b[0m\u001b[37m\u001b[0m \u001b[1m5533s\u001b[0m 2s/step - auc_roc: 0.7082 - loss: 0.6144 - val_auc_roc: 0.7168 - val_loss: 0.6121\n",
      "Epoch 2/5\n",
      "\u001b[1m2521/2521\u001b[0m \u001b[32m━━━━━━━━━━━━━━━━━━━━\u001b[0m\u001b[37m\u001b[0m \u001b[1m0s\u001b[0m 2s/step - auc_roc: 0.7100 - loss: 0.6134\n",
      "Epoch 2: val_auc_roc improved from 0.71679 to 0.71790, saving model to best_chest_xray_model_finetuned4.keras\n",
      "\u001b[1m2521/2521\u001b[0m \u001b[32m━━━━━━━━━━━━━━━━━━━━\u001b[0m\u001b[37m\u001b[0m \u001b[1m5536s\u001b[0m 2s/step - auc_roc: 0.7100 - loss: 0.6134 - val_auc_roc: 0.7179 - val_loss: 0.6107\n",
      "Epoch 3/5\n",
      "\u001b[1m2521/2521\u001b[0m \u001b[32m━━━━━━━━━━━━━━━━━━━━\u001b[0m\u001b[37m\u001b[0m \u001b[1m0s\u001b[0m 2s/step - auc_roc: 0.7119 - loss: 0.6115\n",
      "Epoch 3: val_auc_roc did not improve from 0.71790\n",
      "\u001b[1m2521/2521\u001b[0m \u001b[32m━━━━━━━━━━━━━━━━━━━━\u001b[0m\u001b[37m\u001b[0m \u001b[1m5583s\u001b[0m 2s/step - auc_roc: 0.7119 - loss: 0.6115 - val_auc_roc: 0.7179 - val_loss: 0.6115\n",
      "Epoch 4/5\n",
      "\u001b[1m2521/2521\u001b[0m \u001b[32m━━━━━━━━━━━━━━━━━━━━\u001b[0m\u001b[37m\u001b[0m \u001b[1m0s\u001b[0m 2s/step - auc_roc: 0.7119 - loss: 0.6128\n",
      "Epoch 4: val_auc_roc improved from 0.71790 to 0.71946, saving model to best_chest_xray_model_finetuned4.keras\n",
      "\u001b[1m2521/2521\u001b[0m \u001b[32m━━━━━━━━━━━━━━━━━━━━\u001b[0m\u001b[37m\u001b[0m \u001b[1m5582s\u001b[0m 2s/step - auc_roc: 0.7119 - loss: 0.6128 - val_auc_roc: 0.7195 - val_loss: 0.6104\n",
      "Epoch 5/5\n",
      "\u001b[1m2521/2521\u001b[0m \u001b[32m━━━━━━━━━━━━━━━━━━━━\u001b[0m\u001b[37m\u001b[0m \u001b[1m0s\u001b[0m 2s/step - auc_roc: 0.7153 - loss: 0.6089\n",
      "Epoch 5: val_auc_roc improved from 0.71946 to 0.72034, saving model to best_chest_xray_model_finetuned4.keras\n",
      "\u001b[1m2521/2521\u001b[0m \u001b[32m━━━━━━━━━━━━━━━━━━━━\u001b[0m\u001b[37m\u001b[0m \u001b[1m5555s\u001b[0m 2s/step - auc_roc: 0.7153 - loss: 0.6089 - val_auc_roc: 0.7203 - val_loss: 0.6105\n",
      "Restoring model weights from the end of the best epoch: 4.\n",
      "Saving training history to training_history.csv...\n",
      "History file saved successfully.\n",
      "Fine-tuning complete. Evaluating model on the test set...\n",
      "\u001b[1m697/697\u001b[0m \u001b[32m━━━━━━━━━━━━━━━━━━━━\u001b[0m\u001b[37m\u001b[0m \u001b[1m653s\u001b[0m 888ms/step - auc_roc: 0.7193 - loss: 0.6192\n",
      "\n",
      "--- Test Set Evaluation Results ---\n",
      "loss: 0.6178\n",
      "compile_metrics: 0.7243\n"
     ]
    }
   ],
   "source": [
    "HISTORY_FILE = 'training_history.csv'\n",
    "\n",
    "with strategy.scope():\n",
    "    # Load the previously saved model\n",
    "    model = tf.keras.models.load_model(\n",
    "        PREVIOUS_MODEL_FILE,\n",
    "        custom_objects={'weighted_loss': get_weighted_loss(weights)}\n",
    "    )\n",
    "    print(\"Previously trained model loaded successfully.\")\n",
    "\n",
    "    # Unfreeze more layers\n",
    "    base_model = model.layers[1]\n",
    "    base_model.trainable = True\n",
    "    total_layers = len(base_model.layers)\n",
    "    unfreeze_at = int(total_layers * 0.10)\n",
    "    for layer in base_model.layers[:unfreeze_at]:\n",
    "        layer.trainable = False\n",
    "    print(f\"Unfreezing layers from index {unfreeze_at} onwards.\")\n",
    "\n",
    "    # Re-compile the model with a slower learning rate\n",
    "    model.compile(\n",
    "        optimizer=tf.keras.optimizers.AdamW(learning_rate=1e-6, weight_decay=1e-7),\n",
    "        loss=get_weighted_loss(weights),\n",
    "        metrics=[tf.keras.metrics.AUC(name='auc_roc', multi_label=True)]\n",
    "    )\n",
    "    print(\" Model re-compiled for fine-tuning.\")\n",
    "\n",
    "    checkpoint_model_callback = ModelCheckpoint(\n",
    "        filepath=NEW_MODEL_FILE,\n",
    "        save_weights_only=False,\n",
    "        monitor='val_auc_roc',\n",
    "        mode='max',\n",
    "        save_best_only=True,\n",
    "        verbose=1\n",
    "    )\n",
    "    early_stopping_callback = EarlyStopping(\n",
    "        monitor='val_loss', patience=5, restore_best_weights=True, verbose=1\n",
    "    )\n",
    "\n",
    "    print(\"Starting further fine-tuning...\")\n",
    "    history = model.fit(\n",
    "        train_ds,\n",
    "        epochs=5,\n",
    "        validation_data=val_ds,\n",
    "        callbacks=[\n",
    "            checkpoint_model_callback,\n",
    "            early_stopping_callback\n",
    "        ]\n",
    "    )\n",
    "\n",
    "print(f\"Saving training history to {HISTORY_FILE}...\")\n",
    "history_df = pd.DataFrame(history.history)\n",
    "history_df.to_csv(HISTORY_FILE, index=False)\n",
    "print(\"History file saved successfully.\")\n",
    "\n",
    "print(\"Fine-tuning complete. Evaluating model on the test set...\")\n",
    "loaded_model = tf.keras.models.load_model(\n",
    "    NEW_MODEL_FILE,\n",
    "    custom_objects={'weighted_loss': get_weighted_loss(weights)}\n",
    ")\n",
    "results = loaded_model.evaluate(test_ds)\n",
    "print(\"\\n--- Test Set Evaluation Results ---\")\n",
    "for name, value in zip(loaded_model.metrics_names, results):\n",
    "    print(f\"{name}: {value:.4f}\")"
   ]
  },
  {
   "cell_type": "code",
   "execution_count": 13,
   "id": "297adf3c",
   "metadata": {
    "execution": {
     "iopub.execute_input": "2025-07-08T22:34:43.598033Z",
     "iopub.status.busy": "2025-07-08T22:34:43.596831Z",
     "iopub.status.idle": "2025-07-08T22:45:29.742519Z",
     "shell.execute_reply": "2025-07-08T22:45:29.741434Z"
    },
    "papermill": {
     "duration": 646.98472,
     "end_time": "2025-07-08T22:45:29.744180",
     "exception": false,
     "start_time": "2025-07-08T22:34:42.759460",
     "status": "completed"
    },
    "tags": []
   },
   "outputs": [
    {
     "name": "stdout",
     "output_type": "stream",
     "text": [
      "Fine-tuning complete. Evaluating model on the test set...\n",
      "\u001b[1m697/697\u001b[0m \u001b[32m━━━━━━━━━━━━━━━━━━━━\u001b[0m\u001b[37m\u001b[0m \u001b[1m644s\u001b[0m 895ms/step - auc_roc: 0.7199 - loss: 0.6137\n",
      "\n",
      "--- Test Set Evaluation Results ---\n",
      "loss: 0.6178\n",
      "compile_metrics: 0.7243\n"
     ]
    }
   ],
   "source": [
    "print(\"Fine-tuning complete. Evaluating model on the test set...\")\n",
    "# Load the best-performing model saved during training\n",
    "loaded_model = tf.keras.models.load_model(\n",
    "    NEW_MODEL_FILE,\n",
    "    custom_objects={'weighted_loss': get_weighted_loss(weights)}\n",
    ")\n",
    "\n",
    "# Evaluate on the test dataset\n",
    "results = loaded_model.evaluate(test_ds)\n",
    "print(\"\\n--- Test Set Evaluation Results ---\")\n",
    "for name, value in zip(loaded_model.metrics_names, results):\n",
    "    print(f\"{name}: {value:.4f}\")"
   ]
  }
 ],
 "metadata": {
  "kaggle": {
   "accelerator": "none",
   "dataSources": [
    {
     "datasetId": 5839,
     "sourceId": 18613,
     "sourceType": "datasetVersion"
    },
    {
     "sourceId": 249279311,
     "sourceType": "kernelVersion"
    }
   ],
   "dockerImageVersionId": 31089,
   "isGpuEnabled": false,
   "isInternetEnabled": true,
   "language": "python",
   "sourceType": "notebook"
  },
  "kernelspec": {
   "display_name": "Python 3",
   "language": "python",
   "name": "python3"
  },
  "language_info": {
   "codemirror_mode": {
    "name": "ipython",
    "version": 3
   },
   "file_extension": ".py",
   "mimetype": "text/x-python",
   "name": "python",
   "nbconvert_exporter": "python",
   "pygments_lexer": "ipython3",
   "version": "3.11.13"
  },
  "papermill": {
   "default_parameters": {},
   "duration": 29303.557021,
   "end_time": "2025-07-08T22:45:34.078252",
   "environment_variables": {},
   "exception": null,
   "input_path": "__notebook__.ipynb",
   "output_path": "__notebook__.ipynb",
   "parameters": {},
   "start_time": "2025-07-08T14:37:10.521231",
   "version": "2.6.0"
  }
 },
 "nbformat": 4,
 "nbformat_minor": 5
}
